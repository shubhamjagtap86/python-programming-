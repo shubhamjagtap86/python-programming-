{
 "cells": [
  {
   "cell_type": "markdown",
   "id": "c6887a2f-4870-460c-ae7b-527c0e3dea35",
   "metadata": {},
   "source": [
    "# filter,map,reduce ,lambda function"
   ]
  },
  {
   "cell_type": "code",
   "execution_count": 5,
   "id": "2125ba1f-0d0c-4ac2-95ef-734e2af03084",
   "metadata": {},
   "outputs": [
    {
     "name": "stdout",
     "output_type": "stream",
     "text": [
      "[2, 4, 6, 8, 10]\n"
     ]
    }
   ],
   "source": [
    "# even number using filter ()\n",
    "numbers = [1, 2, 3, 4, 5, 6, 7, 8, 9, 10]\n",
    "def is_even(num):\n",
    "    return num % 2 == 0\n",
    "#filter()\n",
    "even_numbers = filter(is_even, numbers)\n",
    "print(list(even_numbers))  "
   ]
  },
  {
   "cell_type": "code",
   "execution_count": 7,
   "id": "bc5020bb-1dc8-4a5e-8d89-b4f5f52ec033",
   "metadata": {},
   "outputs": [
    {
     "name": "stdout",
     "output_type": "stream",
     "text": [
      "[1, 3, 5, 7, 9]\n"
     ]
    }
   ],
   "source": [
    "#odd number using filter\n",
    "numbers = [1, 2, 3, 4, 5, 6, 7, 8, 9, 10]\n",
    "def is_odd(num):\n",
    "    return num % 2 != 0\n",
    "#filter()\n",
    "odd_numbers = filter(is_odd, numbers)\n",
    "print(list(odd_numbers))  \n"
   ]
  },
  {
   "cell_type": "code",
   "execution_count": 3,
   "id": "785a28e7-92d4-4191-bbfc-32b913e53a13",
   "metadata": {},
   "outputs": [
    {
     "name": "stdout",
     "output_type": "stream",
     "text": [
      "[4, 8, 12]\n"
     ]
    }
   ],
   "source": [
    "#filter and map function\n",
    "a = [1, 2, 3, 4, 5, 6]\n",
    "b = filter(lambda x: x % 2 == 0, a)\n",
    "c = map(lambda x: x * 2, b)\n",
    "print(list(c))"
   ]
  },
  {
   "cell_type": "code",
   "execution_count": 7,
   "id": "3a903731-4847-4b92-a0dd-bd2bd1fff495",
   "metadata": {},
   "outputs": [
    {
     "name": "stdout",
     "output_type": "stream",
     "text": [
      "['shubham', 'karan', 'pranav', 'sidesh']\n"
     ]
    }
   ],
   "source": [
    "strings = [\"shubham\", \"karan\", \"pranav\", \"sidesh\", \"tushar\"]\n",
    "filtered_strings = list(filter(lambda x: x[0] != 't', strings))\n",
    "print(filtered_strings)"
   ]
  },
  {
   "cell_type": "markdown",
   "id": "1beb88df-1431-4ff8-9d6f-a9242414461c",
   "metadata": {},
   "source": [
    "# lambda function"
   ]
  },
  {
   "cell_type": "code",
   "execution_count": 1,
   "id": "464b1a08-6fcb-4fe7-b9ec-c086046a1372",
   "metadata": {},
   "outputs": [
    {
     "name": "stdout",
     "output_type": "stream",
     "text": [
      "SHUBHAM\n"
     ]
    }
   ],
   "source": [
    "s1 = 'shubham'\n",
    "s2 = lambda a: a.upper()\n",
    "print(s2(s1))"
   ]
  },
  {
   "cell_type": "code",
   "execution_count": 2,
   "id": "b69f265d-6f80-4a18-99b5-aa97f7d3ddcd",
   "metadata": {},
   "outputs": [
    {
     "data": {
      "text/plain": [
       "'SHUBHAM'"
      ]
     },
     "execution_count": 2,
     "metadata": {},
     "output_type": "execute_result"
    }
   ],
   "source": [
    "s1=lambda c:c.upper()\n",
    "s1('shubham')"
   ]
  },
  {
   "cell_type": "code",
   "execution_count": 3,
   "id": "e5c6ad5f-60f9-4d55-8d7e-89abaaf45f17",
   "metadata": {},
   "outputs": [
    {
     "data": {
      "text/plain": [
       "'odd'"
      ]
     },
     "execution_count": 3,
     "metadata": {},
     "output_type": "execute_result"
    }
   ],
   "source": [
    "#find even odd number\n",
    "res1=lambda a: 'odd' if a%2!=0 else \"even\"\n",
    "res1(5)"
   ]
  },
  {
   "cell_type": "code",
   "execution_count": 4,
   "id": "1164118c-b7dc-44c4-9c77-cd78052db72b",
   "metadata": {},
   "outputs": [
    {
     "name": "stdout",
     "output_type": "stream",
     "text": [
      "positive\n",
      "neagative\n",
      "zero\n"
     ]
    }
   ],
   "source": [
    "#find number is positive negative or zero\n",
    "n=lambda x: 'positive'if x>0 else 'neagative' if x<0  else\"zero\"\n",
    "print(n(5))\n",
    "print(n(-2))\n",
    "print(n(0))"
   ]
  },
  {
   "cell_type": "code",
   "execution_count": 5,
   "id": "5c78f337-6532-45ed-895b-285f41630719",
   "metadata": {},
   "outputs": [
    {
     "name": "stdout",
     "output_type": "stream",
     "text": [
      "25\n"
     ]
    }
   ],
   "source": [
    "# find squreroot\n",
    "square = lambda x: x ** 2\n",
    "print(square(5))"
   ]
  },
  {
   "cell_type": "code",
   "execution_count": 6,
   "id": "9191545f-277b-4915-adcf-ed919c4c5232",
   "metadata": {},
   "outputs": [
    {
     "name": "stdout",
     "output_type": "stream",
     "text": [
      "10\n",
      "20\n",
      "30\n",
      "40\n"
     ]
    }
   ],
   "source": [
    "li = [lambda arg=x: arg * 10 for x in range(1, 5)]\n",
    "for i in li:\n",
    "    print(i())"
   ]
  },
  {
   "cell_type": "code",
   "execution_count": 7,
   "id": "c355c9cc-ffe8-4cd6-841f-6b18d27b9d15",
   "metadata": {},
   "outputs": [
    {
     "name": "stdout",
     "output_type": "stream",
     "text": [
      "(7, 12, 0.75, -1)\n"
     ]
    }
   ],
   "source": [
    "# Example: Perform addition  multiplication division and substraction  in a single line\n",
    "calc = lambda x, y: (x + y, x * y,x/y,x-y)\n",
    "\n",
    "res = calc(3, 4)\n",
    "print(res)"
   ]
  },
  {
   "cell_type": "code",
   "execution_count": 8,
   "id": "d3a3279b-ea14-4af6-991f-1032caa06abb",
   "metadata": {},
   "outputs": [
    {
     "name": "stdout",
     "output_type": "stream",
     "text": [
      "[2, 4, 6, 4, 8]\n"
     ]
    }
   ],
   "source": [
    "#using filter (find the even number list)\n",
    "n=[1,2,4,6,4,8]\n",
    "even= filter (lambda x:  x % 2==0, n)\n",
    "print(list(even))"
   ]
  },
  {
   "cell_type": "code",
   "execution_count": 9,
   "id": "7ffd2132-4485-413e-891a-ec40c0918871",
   "metadata": {},
   "outputs": [
    {
     "name": "stdout",
     "output_type": "stream",
     "text": [
      "hello , shubham\n"
     ]
    }
   ],
   "source": [
    "# using lambda pint a strin\n",
    "student = lambda name : print('hello ,', name)\n",
    "# lambda call\n",
    "student('shubham')\n"
   ]
  },
  {
   "cell_type": "code",
   "execution_count": 10,
   "id": "243e6e24-b4f4-4bc8-a61b-ca635bc4248d",
   "metadata": {},
   "outputs": [
    {
     "data": {
      "text/plain": [
       "[4, 16, 36, 64]"
      ]
     },
     "execution_count": 10,
     "metadata": {},
     "output_type": "execute_result"
    }
   ],
   "source": [
    "# squre all number\n",
    "num=[2,4,6,8]\n",
    "n=list(map(lambda a:a*a,num))\n",
    "n"
   ]
  },
  {
   "cell_type": "code",
   "execution_count": 11,
   "id": "59020cd4-1e33-4824-ac84-f9db32ccf9ce",
   "metadata": {},
   "outputs": [
    {
     "data": {
      "text/plain": [
       "4.0"
      ]
     },
     "execution_count": 11,
     "metadata": {},
     "output_type": "execute_result"
    }
   ],
   "source": [
    "#area of triangle\n",
    "area_triangle = lambda base, height: 0.5 * base * height\n",
    "area_triangle(2,4)"
   ]
  },
  {
   "cell_type": "code",
   "execution_count": 12,
   "id": "f1127551-c6f2-48bc-b491-4ccf18915559",
   "metadata": {},
   "outputs": [
    {
     "data": {
      "text/plain": [
       "60"
      ]
     },
     "execution_count": 12,
     "metadata": {},
     "output_type": "execute_result"
    }
   ],
   "source": [
    "#area of rectangle\n",
    "rec=lambda l,w:l*w\n",
    "rec(20,3)"
   ]
  },
  {
   "cell_type": "code",
   "execution_count": 13,
   "id": "ab63624f-8a14-4844-9033-4a958ffac3c8",
   "metadata": {},
   "outputs": [
    {
     "data": {
      "text/plain": [
       "28.259999999999998"
      ]
     },
     "execution_count": 13,
     "metadata": {},
     "output_type": "execute_result"
    }
   ],
   "source": [
    "#area of circle\n",
    "cir=lambda r:3.14 *r*r\n",
    "cir(3)"
   ]
  },
  {
   "cell_type": "code",
   "execution_count": 14,
   "id": "b0afa201-fe6c-45bb-9131-eecb6ca8a9db",
   "metadata": {},
   "outputs": [
    {
     "data": {
      "text/plain": [
       "16"
      ]
     },
     "execution_count": 14,
     "metadata": {},
     "output_type": "execute_result"
    }
   ],
   "source": [
    "#area of squre\n",
    "squar=lambda a:a**2\n",
    "squar(4)"
   ]
  },
  {
   "cell_type": "code",
   "execution_count": 15,
   "id": "eecb8588-3228-4036-ad33-dead475e5091",
   "metadata": {},
   "outputs": [
    {
     "data": {
      "text/plain": [
       "8"
      ]
     },
     "execution_count": 15,
     "metadata": {},
     "output_type": "execute_result"
    }
   ],
   "source": [
    "#parallelogram\n",
    "pra=lambda base,height:base*height\n",
    "pra(2,4)"
   ]
  },
  {
   "cell_type": "code",
   "execution_count": 16,
   "id": "9f5dc856-b1b6-47a6-9998-7c9a79a5f466",
   "metadata": {},
   "outputs": [
    {
     "data": {
      "text/plain": [
       "120"
      ]
     },
     "execution_count": 16,
     "metadata": {},
     "output_type": "execute_result"
    }
   ],
   "source": [
    "#factorial of given number\n",
    "fact=lambda f:1 if  f==0 else f*fact(f-1)\n",
    "fact(5)"
   ]
  },
  {
   "cell_type": "code",
   "execution_count": 17,
   "id": "ccebe001-fde6-4d61-9d85-ec514f2a2fa0",
   "metadata": {},
   "outputs": [
    {
     "data": {
      "text/plain": [
       "4.0"
      ]
     },
     "execution_count": 17,
     "metadata": {},
     "output_type": "execute_result"
    }
   ],
   "source": [
    "\n",
    "#find average number\n",
    "avg=lambda a,b,c:(a+b+c)/3\n",
    "avg(2,4,6)"
   ]
  },
  {
   "cell_type": "code",
   "execution_count": 18,
   "id": "8a9b0ec8-0de4-4b6d-a467-e19bea3370f2",
   "metadata": {},
   "outputs": [
    {
     "data": {
      "text/plain": [
       "'hbuhs'"
      ]
     },
     "execution_count": 18,
     "metadata": {},
     "output_type": "execute_result"
    }
   ],
   "source": [
    "#revese number\n",
    "reverse=lambda rev:rev[::-1]\n",
    "reverse('shubh')"
   ]
  },
  {
   "cell_type": "code",
   "execution_count": 19,
   "id": "d0a029ba-f9ae-4f6e-ab41-8cd595006885",
   "metadata": {},
   "outputs": [
    {
     "data": {
      "text/plain": [
       "'palindrom value'"
      ]
     },
     "execution_count": 19,
     "metadata": {},
     "output_type": "execute_result"
    }
   ],
   "source": [
    "#palindrom number\n",
    "palindrom=lambda a='mam': 'palindrom value'if a==a[::-1] else 'not palindrom number'\n",
    "palindrom()"
   ]
  },
  {
   "cell_type": "code",
   "execution_count": 20,
   "id": "e982a9ee-5045-40d1-9dd1-4b546612abf4",
   "metadata": {},
   "outputs": [
    {
     "data": {
      "text/plain": [
       "'palindrom number'"
      ]
     },
     "execution_count": 20,
     "metadata": {},
     "output_type": "execute_result"
    }
   ],
   "source": [
    "#palindrom number\n",
    "palindrom=lambda a: 'palindrom number'if a==a[::-1] else 'not palindrom number'\n",
    "palindrom('121')"
   ]
  },
  {
   "cell_type": "code",
   "execution_count": 21,
   "id": "8bf527f3-dc0a-4e80-9b77-8f662330aa79",
   "metadata": {},
   "outputs": [
    {
     "data": {
      "text/plain": [
       "'pass'"
      ]
     },
     "execution_count": 21,
     "metadata": {},
     "output_type": "execute_result"
    }
   ],
   "source": [
    "#grade check pass& fail\n",
    "grade=lambda marks:'pass' if marks>=50 else 'fail'\n",
    "grade(50)"
   ]
  },
  {
   "cell_type": "code",
   "execution_count": 22,
   "id": "44257974-c5fc-445d-9901-a4c4719860c4",
   "metadata": {},
   "outputs": [
    {
     "name": "stdout",
     "output_type": "stream",
     "text": [
      "positive\n",
      "neagative\n",
      "zero\n"
     ]
    }
   ],
   "source": [
    "#seprate passing value\n",
    "n=lambda x:'positive'if x>0 else 'neagative' if x<0  else\"zero\"\n",
    "\n",
    "print(n(4))\n",
    "print(n(-1))\n",
    "print(n(0))\n"
   ]
  },
  {
   "cell_type": "code",
   "execution_count": 23,
   "id": "83b1c72d-784e-4d15-9cfa-5d57b56f932b",
   "metadata": {},
   "outputs": [
    {
     "data": {
      "text/plain": [
       "'zero'"
      ]
     },
     "execution_count": 23,
     "metadata": {},
     "output_type": "execute_result"
    }
   ],
   "source": [
    "pin=lambda x:'positive'if x>0 else 'negative' if x<0 else 'zero'\n",
    "pin(0)"
   ]
  },
  {
   "cell_type": "code",
   "execution_count": null,
   "id": "9ae16bc0-c1f7-41b4-b252-e99e87bf3938",
   "metadata": {},
   "outputs": [],
   "source": []
  }
 ],
 "metadata": {
  "kernelspec": {
   "display_name": "Python [conda env:base] *",
   "language": "python",
   "name": "conda-base-py"
  },
  "language_info": {
   "codemirror_mode": {
    "name": "ipython",
    "version": 3
   },
   "file_extension": ".py",
   "mimetype": "text/x-python",
   "name": "python",
   "nbconvert_exporter": "python",
   "pygments_lexer": "ipython3",
   "version": "3.13.5"
  }
 },
 "nbformat": 4,
 "nbformat_minor": 5
}
