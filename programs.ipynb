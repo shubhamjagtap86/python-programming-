{
 "cells": [
  {
   "cell_type": "markdown",
   "id": "f0d40bba-4500-4b0b-adbf-2fb51213ea62",
   "metadata": {},
   "source": [
    "# Simple Program To Advance"
   ]
  },
  {
   "cell_type": "markdown",
   "id": "ee0b17f4-583d-472d-a54a-f6f3deca4286",
   "metadata": {},
   "source": [
    "# Addition two number"
   ]
  },
  {
   "cell_type": "code",
   "execution_count": 1,
   "id": "2d0682d1-4a05-4786-9f54-c73a9d3ff562",
   "metadata": {},
   "outputs": [
    {
     "name": "stdout",
     "output_type": "stream",
     "text": [
      "27\n"
     ]
    }
   ],
   "source": [
    "# simple addition number\n",
    "a = 15\n",
    "b = 12\n",
    "\n",
    "# Adding two numbers\n",
    "res = a + b\n",
    "print(res)"
   ]
  },
  {
   "cell_type": "code",
   "execution_count": 3,
   "id": "a4b79fd0-7185-4d51-b055-f96fdd8f4ec2",
   "metadata": {},
   "outputs": [
    {
     "name": "stdin",
     "output_type": "stream",
     "text": [
      "First number:  65\n",
      "Second number:  98\n"
     ]
    },
    {
     "name": "stdout",
     "output_type": "stream",
     "text": [
      "163.0\n"
     ]
    }
   ],
   "source": [
    "# taking user input\n",
    "a = input(\"First number: \")\n",
    "b = input(\"Second number: \")\n",
    "\n",
    "# converting input to float and adding\n",
    "res = float(a) + float(b)\n",
    "\n",
    "print(res)"
   ]
  },
  {
   "cell_type": "code",
   "execution_count": 4,
   "id": "51572f0b-f23e-443a-954b-af7da72ce99c",
   "metadata": {},
   "outputs": [
    {
     "name": "stdout",
     "output_type": "stream",
     "text": [
      "15\n"
     ]
    }
   ],
   "source": [
    "# function to add two numbers\n",
    "def add(a, b):\n",
    "    return a + b\n",
    "\n",
    "# initializing numbers\n",
    "a = 10\n",
    "b = 5\n",
    "\n",
    "# calling function\n",
    "res = add(a,b)\n",
    "\n",
    "print(res)"
   ]
  },
  {
   "cell_type": "code",
   "execution_count": 6,
   "id": "2840e521-1586-4c43-ab72-9670020159c2",
   "metadata": {},
   "outputs": [
    {
     "name": "stdout",
     "output_type": "stream",
     "text": [
      "108\n"
     ]
    }
   ],
   "source": [
    "# using lambda function\n",
    "res = lambda a, b: a + b\n",
    "print(res(10, 98))"
   ]
  },
  {
   "cell_type": "code",
   "execution_count": 8,
   "id": "a5ffa26d-876f-4859-89d1-6cb1da2dad87",
   "metadata": {},
   "outputs": [
    {
     "name": "stdout",
     "output_type": "stream",
     "text": [
      "15\n",
      "18\n"
     ]
    }
   ],
   "source": [
    "# Using operator\n",
    "import operator\n",
    "print(operator.add(10, 5))\n",
    "print(sum([10, 8]))"
   ]
  },
  {
   "cell_type": "markdown",
   "id": "35898450-d82f-4a15-ba0a-7d43d92ecdb0",
   "metadata": {},
   "source": [
    "# maximum number finding"
   ]
  },
  {
   "cell_type": "code",
   "execution_count": 9,
   "id": "328b683e-15a3-4133-9b39-41ea0292f025",
   "metadata": {},
   "outputs": [
    {
     "name": "stdout",
     "output_type": "stream",
     "text": [
      "7\n"
     ]
    }
   ],
   "source": [
    "a = 7\n",
    "b = 3\n",
    "print(max(a, b))"
   ]
  },
  {
   "cell_type": "code",
   "execution_count": 10,
   "id": "7f3f5042-4e97-4f28-a243-931d9336edd6",
   "metadata": {},
   "outputs": [
    {
     "name": "stdout",
     "output_type": "stream",
     "text": [
      "9\n"
     ]
    }
   ],
   "source": [
    "a = 9\n",
    "b = 5\n",
    "print(a if a > b else b)"
   ]
  },
  {
   "cell_type": "markdown",
   "id": "6ecb4cb9-5b6c-4f29-848b-5f54393130f6",
   "metadata": {},
   "source": [
    "a = 4\n",
    "b = 9\n",
    "\n",
    "if a > b:\n",
    "    print(a)\n",
    "else:\n",
    "    print(b)"
   ]
  },
  {
   "cell_type": "code",
   "execution_count": 12,
   "id": "dfa20628-ebe9-47b2-9c0c-39e2c487bce1",
   "metadata": {},
   "outputs": [
    {
     "name": "stdout",
     "output_type": "stream",
     "text": [
      "76\n"
     ]
    }
   ],
   "source": [
    "a = 76\n",
    "b = 45\n",
    "\n",
    "num = [a, b]\n",
    "num.sort()\n",
    "print(num[-1])"
   ]
  },
  {
   "cell_type": "markdown",
   "id": "9230571b-f97a-4ee9-8220-0c2519a405d7",
   "metadata": {},
   "source": [
    "# factorial of given number"
   ]
  },
  {
   "cell_type": "code",
   "execution_count": 14,
   "id": "a97a2e04-4914-44f8-8351-6c80fa8699c7",
   "metadata": {},
   "outputs": [
    {
     "name": "stdout",
     "output_type": "stream",
     "text": [
      "40320\n"
     ]
    }
   ],
   "source": [
    "n =8\n",
    "\n",
    "# Initialize the factorial variable to 1\n",
    "fact = 1\n",
    "\n",
    "# Calculate the factorial using a for loop\n",
    "for i in range(1, n + 1):\n",
    "    fact *= i\n",
    "\n",
    "print(fact)"
   ]
  },
  {
   "cell_type": "code",
   "execution_count": 15,
   "id": "ea821ea7-71b1-48da-ad52-41f69e00e497",
   "metadata": {},
   "outputs": [
    {
     "name": "stdout",
     "output_type": "stream",
     "text": [
      "120\n"
     ]
    }
   ],
   "source": [
    "def fact(n):\n",
    "    \n",
    "    # single line to find factorial\n",
    "    return 1 if (n==1 or n==0) else n * fact(n - 1) \n",
    "\n",
    "# Driver Code\n",
    "num = 5\n",
    "print(fact(num))"
   ]
  },
  {
   "cell_type": "code",
   "execution_count": 18,
   "id": "60f4d14c-79b8-4d71-8706-cd7f68733cb3",
   "metadata": {},
   "outputs": [
    {
     "name": "stdout",
     "output_type": "stream",
     "text": [
      "720\n"
     ]
    }
   ],
   "source": [
    "import math\n",
    "\n",
    "def factorial(n):\n",
    "    return(math.factorial(n))\n",
    "\n",
    "# Driver Code\n",
    "num = 6\n",
    "print(factorial(num))"
   ]
  },
  {
   "cell_type": "code",
   "execution_count": 20,
   "id": "78350c33-a8db-41cc-9852-6fb6cdbf2a77",
   "metadata": {},
   "outputs": [
    {
     "name": "stdout",
     "output_type": "stream",
     "text": [
      "5040\n"
     ]
    }
   ],
   "source": [
    "import numpy\n",
    "n=7\n",
    "x=numpy.prod([i for i in range(1,n+1)])\n",
    "print(x)"
   ]
  },
  {
   "cell_type": "markdown",
   "id": "ef03c215-a92f-4579-831c-39d37972b985",
   "metadata": {},
   "source": [
    "# simple intrest"
   ]
  },
  {
   "cell_type": "code",
   "execution_count": 22,
   "id": "70b2e970-b14e-4d37-96d1-13a017e3196e",
   "metadata": {},
   "outputs": [
    {
     "name": "stdout",
     "output_type": "stream",
     "text": [
      "2.4\n"
     ]
    }
   ],
   "source": [
    "# using function\n",
    "def fun(p, t, r):\n",
    "    return (p * t * r) / 100\n",
    "\n",
    "p, t, r = 5, 6, 8\n",
    "\n",
    "res = fun(p, t, r)\n",
    "print(res)"
   ]
  },
  {
   "cell_type": "code",
   "execution_count": 23,
   "id": "4bc08d9b-8af1-499f-8e10-a358b9f1bf23",
   "metadata": {},
   "outputs": [
    {
     "name": "stdout",
     "output_type": "stream",
     "text": [
      "3.84\n"
     ]
    }
   ],
   "source": [
    "# using lambda function\n",
    "si = lambda p, t, r: (p * t * r) / 100\n",
    "\n",
    "p, t, r = 8, 6, 8\n",
    "\n",
    "res = si(p, t, r)\n",
    "print(res)"
   ]
  },
  {
   "cell_type": "code",
   "execution_count": 25,
   "id": "15501f8f-a9ee-40f2-be76-61aa635de4b3",
   "metadata": {},
   "outputs": [
    {
     "name": "stdout",
     "output_type": "stream",
     "text": [
      "4.32\n"
     ]
    }
   ],
   "source": [
    "# using list\n",
    "p, t, r = 8, 6, 9\n",
    "\n",
    "si = [p * t * r / 100][0]\n",
    "print(si)"
   ]
  },
  {
   "cell_type": "markdown",
   "id": "c24de7bf-753c-4578-88af-22302ba59848",
   "metadata": {},
   "source": [
    "# Armstrong number"
   ]
  },
  {
   "cell_type": "code",
   "execution_count": 26,
   "id": "7b0c3c5a-25c1-440c-9f4b-861a993a76db",
   "metadata": {},
   "outputs": [
    {
     "name": "stdin",
     "output_type": "stream",
     "text": [
      "Enter a number:  153\n"
     ]
    },
    {
     "name": "stdout",
     "output_type": "stream",
     "text": [
      "Armstrong Number\n"
     ]
    }
   ],
   "source": [
    "# check armstrong number\n",
    "num = int(input(\"Enter a number: \"))\n",
    "n = num\n",
    "power = len(str(num))\n",
    "total = 0\n",
    "\n",
    "while n > 0:\n",
    "    digit = n % 10\n",
    "    total += digit ** power\n",
    "    n //= 10\n",
    "\n",
    "if total == num:\n",
    "    print(\"Armstrong Number\")\n",
    "else:\n",
    "    print(\"Not an Armstrong Number\")"
   ]
  },
  {
   "cell_type": "markdown",
   "id": "27701185-755e-4c18-bb36-200ecdfe31ea",
   "metadata": {},
   "source": [
    "# check area of circle"
   ]
  },
  {
   "cell_type": "code",
   "execution_count": 27,
   "id": "04c4ee79-a2f4-4df5-bda3-cd398696eb95",
   "metadata": {},
   "outputs": [
    {
     "name": "stdout",
     "output_type": "stream",
     "text": [
      "78.55\n"
     ]
    }
   ],
   "source": [
    "PI = 3.142\n",
    "r = 5 # radius\n",
    "area = PI * (r * r)\n",
    "print(area)"
   ]
  },
  {
   "cell_type": "markdown",
   "id": "c9030f7e-26e9-4135-b161-06fa96f541c9",
   "metadata": {},
   "source": [
    "# check prime number"
   ]
  },
  {
   "cell_type": "code",
   "execution_count": 28,
   "id": "bb75344a-708f-40c7-a2dd-b28251793812",
   "metadata": {},
   "outputs": [
    {
     "name": "stdout",
     "output_type": "stream",
     "text": [
      "[2, 3, 5, 7]\n"
     ]
    }
   ],
   "source": [
    "x, y = 2, 7  # define the range [x, y]\n",
    "\n",
    "# create a boolean list to mark primes, assume all are prime initially\n",
    "primes = [True] * (y + 1)\n",
    "\n",
    "# 0 and 1 are not prime\n",
    "primes[0], primes[1] = False, False\n",
    "\n",
    "# Sieve of Eratosthenes to mark non-primes\n",
    "for i in range(2, int(y ** 0.5) + 1):\n",
    "    if primes[i]:\n",
    "        for j in range(i * i, y + 1, i):\n",
    "            primes[j] = False\n",
    "\n",
    "# collect primes in the range [x, y]\n",
    "res = [i for i in range(x, y + 1) if primes[i]]\n",
    "print(res if res else \"No\")"
   ]
  },
  {
   "cell_type": "code",
   "execution_count": 34,
   "id": "0459e7a2-b7d4-4cbf-913c-d55fe15cbb8f",
   "metadata": {},
   "outputs": [
    {
     "name": "stdout",
     "output_type": "stream",
     "text": [
      "True\n"
     ]
    }
   ],
   "source": [
    "# check the prime or not\n",
    "\n",
    "n = 11\n",
    "if n <= 1:\n",
    "    print(False)\n",
    "else:\n",
    "    is_prime = True  # Flag variable\n",
    "    for i in range(2, int(n**0.5) + 1):\n",
    "        if n % i == 0:\n",
    "            is_prime = False\n",
    "            break\n",
    "    print(is_prime)"
   ]
  },
  {
   "cell_type": "markdown",
   "id": "79c5e86e-8867-4ea0-a31c-e71b3061b5fc",
   "metadata": {},
   "source": [
    "#  fibonacci number"
   ]
  },
  {
   "cell_type": "code",
   "execution_count": 35,
   "id": "2ef0e10e-cbe5-4dcc-8754-91903273cabe",
   "metadata": {},
   "outputs": [
    {
     "name": "stdout",
     "output_type": "stream",
     "text": [
      "144 is 12th fibonacci number\n"
     ]
    }
   ],
   "source": [
    "# To find the n-th Fibonacci Number using formula\n",
    "from math import sqrt \n",
    "# import square-root method from math library\n",
    "def nthFib(n):\n",
    "    res = (((1+sqrt(5))**n)-((1-sqrt(5)))**n)/(2**n*sqrt(5))\n",
    "    # compute the n-th fibonacci number\n",
    "    print(int(res),'is',str(n)+'th fibonacci number')\n",
    "    # format and print the number\n",
    "    \n",
    "# driver code\n",
    "nthFib(12)\n",
    "\n",
    "# This code is contributed by Kush Mehta"
   ]
  },
  {
   "cell_type": "code",
   "execution_count": 37,
   "id": "7e1969c4-fc84-497e-9e42-8e59b40953fb",
   "metadata": {},
   "outputs": [
    {
     "name": "stdout",
     "output_type": "stream",
     "text": [
      "1 is a Fibonacci Number\n",
      "2 is a Fibonacci Number\n",
      "3 is a Fibonacci Number\n",
      "4 is not a Fibonacci Number\n",
      "5 is a Fibonacci Number\n",
      "6 is not a Fibonacci Number\n"
     ]
    }
   ],
   "source": [
    "# \n",
    "import math\n",
    "\n",
    "def is_perfect_sq(x):\n",
    "    s = int(math.sqrt(x))\n",
    "    return s * s == x\n",
    "\n",
    "def is_fibonacci(n):\n",
    "    return is_perfect_sq(5 * n * n + 4) or is_perfect_sq(5 * n * n - 4)\n",
    "\n",
    "for i in range(1, 7):\n",
    "    if is_fibonacci(i):\n",
    "        print(f\"{i} is a Fibonacci Number\")\n",
    "    else:\n",
    "        print(f\"{i} is not a Fibonacci Number\")"
   ]
  },
  {
   "cell_type": "code",
   "execution_count": 38,
   "id": "f4f84541-9d69-4a2d-81ab-58e6ae477310",
   "metadata": {},
   "outputs": [
    {
     "name": "stdout",
     "output_type": "stream",
     "text": [
      "987\n"
     ]
    }
   ],
   "source": [
    "n, m = 4, 3  \n",
    "a, b, count = 0, 1, 0  \n",
    "\n",
    "while True:\n",
    "    a, b = b, a + b  # Compute next Fibonacci number\n",
    "    \n",
    "    if b % m == 0:  # Check if divisible by m\n",
    "        count += 1  \n",
    "        \n",
    "        if count == n:  # If nth multiple is found, print it\n",
    "            print(b)\n",
    "            break"
   ]
  },
  {
   "cell_type": "code",
   "execution_count": 40,
   "id": "d645e26e-a1f4-4a1e-bfa0-f32d71881206",
   "metadata": {},
   "outputs": [
    {
     "name": "stdout",
     "output_type": "stream",
     "text": [
      "103\n"
     ]
    }
   ],
   "source": [
    "# ASCII Value\n",
    "c = 'g'\n",
    "print(ord(c))"
   ]
  },
  {
   "cell_type": "code",
   "execution_count": 41,
   "id": "2928b0f2-ce6b-4734-9f50-9bbc23738738",
   "metadata": {},
   "outputs": [
    {
     "name": "stdout",
     "output_type": "stream",
     "text": [
      "55\n"
     ]
    }
   ],
   "source": [
    "# Sum of squares of first N natural numbers\n",
    "n = 5\n",
    "res = sum(x * x for x in range(1, n + 1))\n",
    "print(res)"
   ]
  },
  {
   "cell_type": "code",
   "execution_count": 42,
   "id": "7e1953ff-ad87-43b6-898b-d89a5832a274",
   "metadata": {},
   "outputs": [
    {
     "name": "stdout",
     "output_type": "stream",
     "text": [
      "280\n"
     ]
    }
   ],
   "source": [
    "n = 5\n",
    "sum = 0\n",
    "\n",
    "for i in range(1, n + 1):\n",
    "    res += i ** 3\n",
    "\n",
    "print(res)"
   ]
  },
  {
   "cell_type": "markdown",
   "id": "950807a3-f793-4da8-8e76-90381a06962b",
   "metadata": {},
   "source": [
    "# sum of array"
   ]
  },
  {
   "cell_type": "code",
   "execution_count": 53,
   "id": "74153ddf-bd29-49c7-8906-23fd8b169e37",
   "metadata": {},
   "outputs": [
    {
     "name": "stdout",
     "output_type": "stream",
     "text": [
      "Sum of the array is  34\n"
     ]
    }
   ],
   "source": [
    "from functools import reduce \n",
    "# Python 3 code to find sum\n",
    "# of elements in given array\n",
    "\n",
    "\n",
    "def _sum(arr):\n",
    "\n",
    "    # iterate over array\n",
    "    # using reduce and get \n",
    "    # sum on accumulator\n",
    "    sum = reduce(lambda a, b: a+b, arr) \n",
    "\n",
    "    return(sum)\n",
    "\n",
    "\n",
    "# driver function\n",
    "arr = []\n",
    "# input values to list\n",
    "arr = [12, 3, 4, 15]\n",
    "\n",
    "# calculating length of array\n",
    "n = len(arr)\n",
    "\n",
    "ans = _sum(arr)\n",
    "\n",
    "# display sum\n",
    "print('Sum of the array is ', ans)"
   ]
  },
  {
   "cell_type": "markdown",
   "id": "e8b70826-84d1-4bc2-91bb-487d5bd57de9",
   "metadata": {},
   "source": [
    "# LCM"
   ]
  },
  {
   "cell_type": "code",
   "execution_count": 54,
   "id": "d62949c8-c231-406e-8d31-825b8f9967e3",
   "metadata": {},
   "outputs": [
    {
     "name": "stdout",
     "output_type": "stream",
     "text": [
      "The LCM of 4 and 6 is: 12\n"
     ]
    }
   ],
   "source": [
    "import math\n",
    "\n",
    "def find_lcm(a, b):\n",
    "    return abs(a * b) // math.gcd(a, b)\n",
    "\n",
    "# Example usage\n",
    "num1 = 4\n",
    "num2 = 6\n",
    "lcm_result = find_lcm(num1, num2)\n",
    "print(f\"The LCM of {num1} and {num2} is: {lcm_result}\")"
   ]
  },
  {
   "cell_type": "markdown",
   "id": "451b200b-3675-4a8d-a61e-f6facfa36f48",
   "metadata": {},
   "source": [
    "# Define two matrices"
   ]
  },
  {
   "cell_type": "code",
   "execution_count": 55,
   "id": "5f36fc3d-f2de-4b38-aa7a-81fc47c850aa",
   "metadata": {},
   "outputs": [
    {
     "name": "stdout",
     "output_type": "stream",
     "text": [
      "[10, 10, 10]\n",
      "[10, 10, 10]\n",
      "[10, 10, 10]\n"
     ]
    }
   ],
   "source": [
    "\n",
    "A = [[1, 2, 3],\n",
    "     [4, 5, 6],\n",
    "     [7, 8, 9]]\n",
    "\n",
    "B = [[9, 8, 7],\n",
    "     [6, 5, 4],\n",
    "     [3, 2, 1]]\n",
    "\n",
    "# Resultant matrix initialized with zeros\n",
    "result = [[0, 0, 0],\n",
    "     [0, 0, 0],\n",
    "     [0, 0, 0]]\n",
    "\n",
    "# Performing addition using nested loops\n",
    "for i in range(len(A)):\n",
    "    for j in range(len(A[0])):\n",
    "        result[i][j] = A[i][j] + B[i][j]\n",
    "\n",
    "# Display the result\n",
    "for row in result:\n",
    "    print(row)\n",
    "\n"
   ]
  },
  {
   "cell_type": "markdown",
   "id": "3e104bee-444f-4f94-a476-03c8e3019bbf",
   "metadata": {},
   "source": [
    "# Palindrom number"
   ]
  },
  {
   "cell_type": "code",
   "execution_count": 61,
   "id": "b97a3052-f8ac-4b3a-a6f2-0e829e6377a3",
   "metadata": {},
   "outputs": [
    {
     "name": "stdin",
     "output_type": "stream",
     "text": [
      "Enter a string:  saas\n"
     ]
    },
    {
     "name": "stdout",
     "output_type": "stream",
     "text": [
      "True\n"
     ]
    }
   ],
   "source": [
    "def is_palindrome_loop():\n",
    "    s = input(\"Enter a string: \").lower() # Convert input to lowercase\n",
    "    length = len(s)\n",
    "    for i in range(length // 2):\n",
    "        if s[i] != s[length - i - 1]: # Compare characters from both ends\n",
    "            print(False)\n",
    "            return\n",
    "    print(True)\n",
    "\n",
    "# Calling function\n",
    "is_palindrome_loop()\n"
   ]
  },
  {
   "cell_type": "markdown",
   "id": "3051bd6d-0927-401f-8e0b-a11971cb7c6b",
   "metadata": {},
   "source": [
    "# calculator program"
   ]
  },
  {
   "cell_type": "code",
   "execution_count": 63,
   "id": "52ca3950-c493-4fb9-8761-85d570322c43",
   "metadata": {},
   "outputs": [
    {
     "name": "stdout",
     "output_type": "stream",
     "text": [
      "Choose an operation:\n",
      "1. Addition\n",
      "2. Subtraction\n",
      "3. Multiplication\n",
      "4. Division\n"
     ]
    },
    {
     "name": "stdin",
     "output_type": "stream",
     "text": [
      "Input your choice(1/2/3/4):  1\n",
      "Enter first number:  23\n",
      "Enter second number:  32\n"
     ]
    },
    {
     "name": "stdout",
     "output_type": "stream",
     "text": [
      "Result: 55.0\n"
     ]
    }
   ],
   "source": [
    "# Basic Calculator Program\n",
    "# Functions for arithmetic operations\n",
    "\n",
    "# Function to perform addition \n",
    "def addition(a, b):\n",
    "    return a + b\n",
    "\n",
    "# Function to perform subtraction \n",
    "def subtraction(a, b):\n",
    "    return a - b\n",
    "\n",
    "# Function to perform multiplication\n",
    "def multiplication(a, b):\n",
    "    return a * b\n",
    "\n",
    "# Function to perform division \n",
    "def division(a, b):\n",
    "    return a / b if b != 0 else \"Error: Division by zero\"\n",
    "\n",
    "# Display menu options\n",
    "print(\"Choose an operation:\")\n",
    "print(\"1. Addition\")\n",
    "print(\"2. Subtraction\")\n",
    "print(\"3. Multiplication\")\n",
    "print(\"4. Division\")\n",
    "\n",
    "# Take user input\n",
    "choice = input(\"Input your choice(1/2/3/4): \")\n",
    "\n",
    "# Validate choice\n",
    "if choice in ('1', '2', '3', '4'):\n",
    "    num_one = float(input(\"Enter first number: \"))\n",
    "    num_two = float(input(\"Enter second number: \"))\n",
    "\n",
    "    # Perform operation based on choice\n",
    "    if choice == '1':\n",
    "        print(\"Result:\", addition(num_one, num_two))\n",
    "    elif choice == '2':\n",
    "        print(\"Result:\", subtraction(num_one, num_two))\n",
    "    elif choice == '3':\n",
    "        print(\"Result:\", multiplication(num_one, num_two))\n",
    "    elif choice == '4':\n",
    "        print(\"Result:\", division(num_one, num_two))\n",
    "else:\n",
    "    print(\"Invalid choice! Please select a valid operation.\")\n",
    "\n"
   ]
  },
  {
   "cell_type": "markdown",
   "id": "c1befb06-d412-4219-a921-a2db2bb074f6",
   "metadata": {},
   "source": [
    "# HCF"
   ]
  },
  {
   "cell_type": "code",
   "execution_count": 64,
   "id": "7fcad9e3-f5ec-4251-9149-00f92d8a11c3",
   "metadata": {},
   "outputs": [
    {
     "name": "stdin",
     "output_type": "stream",
     "text": [
      "Enter your first number:  6\n",
      "Enter your second number:  8\n"
     ]
    },
    {
     "name": "stdout",
     "output_type": "stream",
     "text": [
      "HCF (GCD): 2\n"
     ]
    }
   ],
   "source": [
    "# Function to find HCF using a loop\n",
    "def find_hcf_loop(x, y):\n",
    "    hcf = 1\n",
    "    for i in range(1, min(x, y) + 1):\n",
    "        if x % i == 0 and y % i == 0:\n",
    "            hcf = i\n",
    "    return hcf\n",
    "\n",
    "# Taking user input\n",
    "num1 = int(input(\"Enter your first number: \"))\n",
    "num2 = int(input(\"Enter your second number: \"))\n",
    "\n",
    "# Calling the function\n",
    "print(\"HCF (GCD):\", find_hcf_loop(num1, num2))"
   ]
  },
  {
   "cell_type": "markdown",
   "id": "89a7f104-d2b2-470f-ac17-7e7cc00c40f0",
   "metadata": {},
   "source": [
    "# Find the squre root\n"
   ]
  },
  {
   "cell_type": "code",
   "execution_count": 66,
   "id": "e4a6a98e-9e8f-40d4-b377-6a77e5bde1ee",
   "metadata": {},
   "outputs": [
    {
     "name": "stdin",
     "output_type": "stream",
     "text": [
      "Enter a number:  81\n"
     ]
    },
    {
     "name": "stdout",
     "output_type": "stream",
     "text": [
      "The square root of the number is :  9.0\n"
     ]
    }
   ],
   "source": [
    "# The following code finds the square root of a number\n",
    "\n",
    "# Defining the function\n",
    "\n",
    "def square_root(number):\n",
    "  result = number**0.5 #exponentiation with power 0.5\n",
    "\n",
    "  return result\n",
    "\n",
    "# Taking user input\n",
    "number = int(input(\"Enter a number: \"))\n",
    "print(\"The square root of the number is : \", square_root(number))"
   ]
  },
  {
   "cell_type": "markdown",
   "id": "6a1a0230-ce63-42da-ade1-7997b86b5edb",
   "metadata": {},
   "source": [
    "# reversed number"
   ]
  },
  {
   "cell_type": "code",
   "execution_count": 67,
   "id": "949853e2-9ba1-4f69-8baf-a9e54ee5ad55",
   "metadata": {},
   "outputs": [
    {
     "name": "stdout",
     "output_type": "stream",
     "text": [
      "Reversed Array: [9, 8, 7, 5, 3]\n"
     ]
    }
   ],
   "source": [
    "arr = [3, 5, 7, 8, 9]\n",
    "\n",
    "# Reverse the array using slicing\n",
    "reversed_arr = arr[::-1]\n",
    "\n",
    "print(\"Reversed Array:\", reversed_arr)"
   ]
  },
  {
   "cell_type": "code",
   "execution_count": null,
   "id": "da9f8c68-5943-4310-a01e-54fa83dcd470",
   "metadata": {},
   "outputs": [],
   "source": []
  }
 ],
 "metadata": {
  "kernelspec": {
   "display_name": "Python [conda env:anaconda3]",
   "language": "python",
   "name": "conda-env-anaconda3-py"
  },
  "language_info": {
   "codemirror_mode": {
    "name": "ipython",
    "version": 3
   },
   "file_extension": ".py",
   "mimetype": "text/x-python",
   "name": "python",
   "nbconvert_exporter": "python",
   "pygments_lexer": "ipython3",
   "version": "3.12.7"
  }
 },
 "nbformat": 4,
 "nbformat_minor": 5
}
