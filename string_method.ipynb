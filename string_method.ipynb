{
 "cells": [
  {
   "cell_type": "code",
   "execution_count": 1,
   "id": "78368c9d-9795-42b6-9dd5-c5eca3d8bf17",
   "metadata": {},
   "outputs": [],
   "source": [
    "#string method\n"
   ]
  },
  {
   "cell_type": "code",
   "execution_count": 5,
   "id": "1514ecaf-090b-44e0-9cfc-5e0ab3ce3abc",
   "metadata": {},
   "outputs": [
    {
     "name": "stdout",
     "output_type": "stream",
     "text": [
      "I love python\n"
     ]
    }
   ],
   "source": [
    "#capitalize()\n",
    "sentence = \"i love PYTHON\"\n",
    "\n",
    "# converts first character to uppercase and others to lowercase\n",
    "capitalized_string = sentence.capitalize()\n",
    "\n",
    "print(capitalized_string)\n",
    "\n",
    "# Output: I love python"
   ]
  },
  {
   "cell_type": "code",
   "execution_count": 4,
   "id": "35948169-8fee-4870-be6b-291e8607df44",
   "metadata": {},
   "outputs": [
    {
     "name": "stdout",
     "output_type": "stream",
     "text": [
      "   Python is awesome    \n"
     ]
    }
   ],
   "source": [
    "# center()\n",
    "sentence = \"Python is awesome\"\n",
    "\n",
    "# returns the centered padded string of length 24 \n",
    "new_string = sentence.center(24)\n",
    "\n",
    "print(new_string)"
   ]
  },
  {
   "cell_type": "code",
   "execution_count": 6,
   "id": "3f3a9f70-c689-44ec-9313-700f039bd075",
   "metadata": {},
   "outputs": [
    {
     "name": "stdout",
     "output_type": "stream",
     "text": [
      "python\n"
     ]
    }
   ],
   "source": [
    "text = \"pYtHon\"\n",
    "\n",
    "# convert all characters to lowercase\n",
    "lowercased_string = text.casefold()\n",
    "\n",
    "print(lowercased_string)\n",
    "\n"
   ]
  },
  {
   "cell_type": "code",
   "execution_count": 8,
   "id": "f612bcf5-fd8c-4347-afef-f311241cb2ce",
   "metadata": {},
   "outputs": [
    {
     "name": "stdout",
     "output_type": "stream",
     "text": [
      "2\n"
     ]
    }
   ],
   "source": [
    "str='shubham'\n",
    "print(str.count('h'))"
   ]
  },
  {
   "cell_type": "code",
   "execution_count": 9,
   "id": "b89bcf71-8079-40c3-a036-1e479bf9459b",
   "metadata": {},
   "outputs": [
    {
     "name": "stdout",
     "output_type": "stream",
     "text": [
      "True\n"
     ]
    }
   ],
   "source": [
    "message = 'hello shubham'\n",
    "\n",
    "# check if the message ends with fun\n",
    "print(message.endswith('am'))\n",
    "\n",
    "# Output: True"
   ]
  },
  {
   "cell_type": "code",
   "execution_count": 10,
   "id": "da637c1d-4cda-4afa-a2ec-0401cb993266",
   "metadata": {},
   "outputs": [
    {
     "name": "stdout",
     "output_type": "stream",
     "text": [
      "xyz     12345   abc\n"
     ]
    }
   ],
   "source": [
    "str = 'xyz\\t12345\\tabc'\n",
    "\n",
    "# no argument is passed\n",
    "# default tabsize is 8\n",
    "result = str.expandtabs()\n",
    "\n",
    "print(result)"
   ]
  },
  {
   "cell_type": "code",
   "execution_count": 11,
   "id": "0fec0284-cc01-405c-9715-a2ad226578cf",
   "metadata": {},
   "outputs": [
    {
     "name": "stdout",
     "output_type": "stream",
     "text": [
      "b'Python Programming'\n"
     ]
    }
   ],
   "source": [
    "title = 'Python Programming'\n",
    "\n",
    "# change encoding to utf-8\n",
    "print(title.encode())\n",
    "\n",
    "# Output: b'Python Programming'"
   ]
  },
  {
   "cell_type": "code",
   "execution_count": 12,
   "id": "b03c1bb7-8155-4e78-beb3-341ef3044759",
   "metadata": {},
   "outputs": [
    {
     "name": "stdout",
     "output_type": "stream",
     "text": [
      "10\n"
     ]
    }
   ],
   "source": [
    "#find ()\n",
    "message = 'shubaham  jagtap'\n",
    "\n",
    "# check the index of 'fun'\n",
    "print(message.find('jagtap'))\n",
    "\n"
   ]
  },
  {
   "cell_type": "code",
   "execution_count": 15,
   "id": "7af0304c-48ea-43fa-9224-f1ab36f5cee2",
   "metadata": {},
   "outputs": [
    {
     "name": "stdout",
     "output_type": "stream",
     "text": [
      "6\n"
     ]
    }
   ],
   "source": [
    "# index()\n",
    "text = 'hello shubham'\n",
    "\n",
    "# find the index of is\n",
    "result = text.index('shubham')\n",
    "print(result)\n",
    "\n"
   ]
  },
  {
   "cell_type": "code",
   "execution_count": 18,
   "id": "4852cfc3-9862-4e90-b4f3-f94baa2a0d1d",
   "metadata": {},
   "outputs": [
    {
     "name": "stdout",
     "output_type": "stream",
     "text": [
      "True\n",
      "False\n"
     ]
    }
   ],
   "source": [
    "# isalnum()\n",
    "# string contains either alphabet or number \n",
    "name1 = 'shubham'\n",
    "\n",
    "print(name1.isalnum()) #True\n",
    "\n",
    "# string contains whitespace\n",
    "name2 = \"shubham 86\"\n",
    "\n",
    "print(name2.isalnum()) #False"
   ]
  },
  {
   "cell_type": "code",
   "execution_count": 22,
   "id": "a69e03c4-d327-42cf-848a-f8ef4983cf9a",
   "metadata": {},
   "outputs": [
    {
     "name": "stdout",
     "output_type": "stream",
     "text": [
      "True\n",
      "False\n",
      "False\n"
     ]
    }
   ],
   "source": [
    "#isalpha()\n",
    "name = \"datamites\"\n",
    "print(name.isalpha())\n",
    "\n",
    "# contains whitespace\n",
    "name = \"data mites\"\n",
    "print(name.isalpha())\n",
    "\n",
    "# contains number\n",
    "name = \"data10mites\"\n",
    "print(name.isalpha())"
   ]
  },
  {
   "cell_type": "code",
   "execution_count": 23,
   "id": "6e15b591-9bfc-448c-b529-b8ebd1a2769b",
   "metadata": {},
   "outputs": [
    {
     "name": "stdout",
     "output_type": "stream",
     "text": [
      "True\n",
      "False\n",
      "False\n"
     ]
    }
   ],
   "source": [
    "#isdecimal()\n",
    "s = \"28212\"\n",
    "print(s.isdecimal())\n",
    "\n",
    "# contains alphabets\n",
    "s = \"datamites78\"\n",
    "print(s.isdecimal())\n",
    "\n",
    "# contains alphabets and spaces\n",
    "s = \"data1 mites2\"\n",
    "print(s.isdecimal())"
   ]
  },
  {
   "cell_type": "code",
   "execution_count": 25,
   "id": "f964ebf5-6810-42ec-a5b8-8dc94ae72728",
   "metadata": {},
   "outputs": [
    {
     "name": "stdout",
     "output_type": "stream",
     "text": [
      "True\n",
      "False\n",
      "False\n"
     ]
    }
   ],
   "source": [
    "#isdigit()\n",
    "str1 = '342'\n",
    "print(str1.isdigit())\n",
    "\n",
    "str2 = 'python'\n",
    "print(str2.isdigit())\n",
    "\n",
    "str3='data43'\n",
    "print(str3.isdigit())\n"
   ]
  },
  {
   "cell_type": "code",
   "execution_count": 26,
   "id": "884a9a37-b172-4591-922e-bb36b72de96c",
   "metadata": {},
   "outputs": [
    {
     "name": "stdout",
     "output_type": "stream",
     "text": [
      "True\n",
      "False\n",
      "False\n",
      "False\n"
     ]
    }
   ],
   "source": [
    "# isidentifier()\n",
    "str = 'Python'\n",
    "print(str.isidentifier())\n",
    "\n",
    "str = 'Py thon'\n",
    "print(str.isidentifier())\n",
    "\n",
    "str = '22Python'\n",
    "print(str.isidentifier())\n",
    "\n",
    "str = ''\n",
    "print(str.isidentifier())"
   ]
  },
  {
   "cell_type": "code",
   "execution_count": 29,
   "id": "754dc4b0-f906-4e83-b8cd-f3d17b039732",
   "metadata": {},
   "outputs": [
    {
     "name": "stdout",
     "output_type": "stream",
     "text": [
      "True\n",
      "True\n",
      "False\n"
     ]
    }
   ],
   "source": [
    "#islower()\n",
    "s = 'this is good'\n",
    "print(s.islower())\n",
    "\n",
    "s = 'shubham23'\n",
    "print(s.islower())\n",
    "\n",
    "s = 'shubhAm'\n",
    "print(s.islower())"
   ]
  },
  {
   "cell_type": "code",
   "execution_count": 38,
   "id": "55ae07f9-3f6c-48ec-a3bf-8db174f6cf33",
   "metadata": {},
   "outputs": [
    {
     "name": "stdout",
     "output_type": "stream",
     "text": [
      "True\n",
      "False\n"
     ]
    }
   ],
   "source": [
    "#isnumeric()\n",
    "str1 = \"523\"\n",
    "# checks if every character of pin is numeric \n",
    "print(str1.isnumeric())\n",
    "str3=\"data\"\n",
    "print(str3.isnumeric())\n",
    "\n",
    "\n"
   ]
  },
  {
   "cell_type": "code",
   "execution_count": 44,
   "id": "006684c3-4350-4fcc-a63b-a301e3c4bbd6",
   "metadata": {},
   "outputs": [
    {
     "name": "stdout",
     "output_type": "stream",
     "text": [
      "True\n",
      "False\n"
     ]
    }
   ],
   "source": [
    "text1 = 'python programming'\n",
    "\n",
    "# checks if text1 is printable \n",
    "result1 = text1.isprintable()\n",
    "print(result1)\n",
    "\n",
    "text2 = 'python programming\\n'\n",
    "\n",
    "# checks if text2 is printable \n",
    "result2 = text2.isprintable() \n",
    "print(result2)"
   ]
  },
  {
   "cell_type": "code",
   "execution_count": 45,
   "id": "73c048b5-d114-4ab4-b2c8-93fe9b864529",
   "metadata": {},
   "outputs": [
    {
     "name": "stdout",
     "output_type": "stream",
     "text": [
      "True\n",
      "False\n",
      "True\n",
      "True\n",
      "False\n"
     ]
    }
   ],
   "source": [
    "#istitle()\n",
    "s = 'Python Is Good.'\n",
    "print(s.istitle())\n",
    "\n",
    "s = 'Python is good'\n",
    "print(s.istitle())\n",
    "\n",
    "s = 'This Is @ Symbol.'\n",
    "print(s.istitle())\n",
    "\n",
    "s = '99 Is A Number'\n",
    "print(s.istitle())\n",
    "\n",
    "s = 'PYTHON'\n",
    "print(s.istitle())"
   ]
  },
  {
   "cell_type": "code",
   "execution_count": 50,
   "id": "997ec1d8-fd88-4c73-b9ac-33162d1dad6b",
   "metadata": {},
   "outputs": [
    {
     "name": "stdout",
     "output_type": "stream",
     "text": [
      "Python is a programming language\n"
     ]
    }
   ],
   "source": [
    "#join ()\n",
    "text = ['Python', 'is', 'a',  'programming', 'language']\n",
    "\n",
    "# join elements of text with space\n",
    "print(' '.join(text))\n",
    "\n"
   ]
  },
  {
   "cell_type": "code",
   "execution_count": 62,
   "id": "7aaa01f5-cbc9-41c6-b013-2e14292c250e",
   "metadata": {},
   "outputs": [
    {
     "name": "stdout",
     "output_type": "stream",
     "text": [
      "cat  \n"
     ]
    }
   ],
   "source": [
    "#ljust()\n",
    "# example string\n",
    "string = 'cat'\n",
    "width = 5\n",
    "\n",
    "# print left justified string\n",
    "print(string.ljust(width))"
   ]
  },
  {
   "cell_type": "code",
   "execution_count": 67,
   "id": "23a32772-ac07-4538-bd38-4c34f4455a47",
   "metadata": {},
   "outputs": [
    {
     "name": "stdout",
     "output_type": "stream",
     "text": [
      "    Python\n"
     ]
    }
   ],
   "source": [
    "#rjust()\n",
    "text = 'Python'\n",
    "\n",
    "# right aligns 'Python' up to width 10 using '*'\n",
    "result = text.rjust(10)\n",
    "print(result)\n",
    "\n"
   ]
  },
  {
   "cell_type": "code",
   "execution_count": 70,
   "id": "ba3f870d-2949-483a-b987-af245c7fa0d0",
   "metadata": {},
   "outputs": [
    {
     "name": "stdout",
     "output_type": "stream",
     "text": [
      "shubham\n"
     ]
    }
   ],
   "source": [
    "#lower()\n",
    "message = 'SHUBHAM'\n",
    "\n",
    "# convert message to lowercase\n",
    "print(message.lower())\n",
    "\n"
   ]
  },
  {
   "cell_type": "code",
   "execution_count": 72,
   "id": "cc0f2c1b-ce7e-42a1-a58b-26fb3e49eb2f",
   "metadata": {},
   "outputs": [
    {
     "name": "stdout",
     "output_type": "stream",
     "text": [
      "SHUBHAM\n"
     ]
    }
   ],
   "source": [
    "#upper()\n",
    "message = 'shubham'\n",
    "\n",
    "# convert message to uppercase\n",
    "print(message.upper())\n",
    "\n"
   ]
  },
  {
   "cell_type": "code",
   "execution_count": 73,
   "id": "e24cdc31-4150-46e0-a79b-ed504044fa11",
   "metadata": {},
   "outputs": [
    {
     "name": "stdout",
     "output_type": "stream",
     "text": [
      "True\n",
      "True\n",
      "False\n"
     ]
    }
   ],
   "source": [
    "# example string\n",
    "string = \"THIS IS GOOD!\"\n",
    "print(string.isupper());\n",
    "\n",
    "# numbers in place of alphabets\n",
    "string = \"THIS IS ALSO G00D!\"\n",
    "print(string.isupper());\n",
    "\n",
    "# lowercase string\n",
    "string = \"THIS IS not GOOD!\"\n",
    "print(string.isupper());"
   ]
  },
  {
   "cell_type": "code",
   "execution_count": 78,
   "id": "07a3f2ee-7cbb-4db5-955a-e4d71dbfe1b6",
   "metadata": {},
   "outputs": [
    {
     "name": "stdout",
     "output_type": "stream",
     "text": [
      "shuBHAM\n",
      "SHUBham\n"
     ]
    }
   ],
   "source": [
    "# swapcase\n",
    "#swaping text upperto lower and lower to upper\n",
    "name = \"SHUbham\"\n",
    "\n",
    "# converts lowercase to uppercase and vice versa\n",
    "print(name.swapcase())\n",
    "name1='shubHAM'\n",
    "print(name1.swapcase())\n",
    "\n"
   ]
  },
  {
   "cell_type": "code",
   "execution_count": 80,
   "id": "c04f37eb-7bfe-4bb7-8da9-731cd825654b",
   "metadata": {},
   "outputs": [
    {
     "name": "stdout",
     "output_type": "stream",
     "text": [
      "{97: '123', 98: '456', 99: '789'}\n",
      "{97: '123', 98: '456', 99: '789'}\n"
     ]
    }
   ],
   "source": [
    "# example dictionary\n",
    "string = \"abc\"\n",
    "print(string.maketrans(dict))\n",
    "\n",
    "# example dictionary\n",
    "dict = {97: \"123\", 98: \"456\", 99: \"789\"}\n",
    "string = \"abc\"\n",
    "print(string.maketrans(dict))"
   ]
  },
  {
   "cell_type": "code",
   "execution_count": 9,
   "id": "ea833e64-413a-4517-8b06-37a2fa2a1a9e",
   "metadata": {},
   "outputs": [
    {
     "name": "stdout",
     "output_type": "stream",
     "text": [
      "shubham    \n"
     ]
    }
   ],
   "source": [
    "#  lstrip()\n",
    "# remove the whitspace in begining of the string\n",
    "str='                    shubham    '\n",
    "print(str.lstrip())"
   ]
  },
  {
   "cell_type": "code",
   "execution_count": 10,
   "id": "40ec7bbc-bbed-43fc-a9b3-a0157ff6c7db",
   "metadata": {},
   "outputs": [
    {
     "name": "stdout",
     "output_type": "stream",
     "text": [
      "shubham\n"
     ]
    }
   ],
   "source": [
    "#rstrip()\n",
    "# remove the whitspoace in ending of the string\n",
    "str='shubham     '\n",
    "print(str.rstrip())\n"
   ]
  },
  {
   "cell_type": "code",
   "execution_count": 23,
   "id": "89584335-be65-4764-b267-8cd43fade4e8",
   "metadata": {},
   "outputs": [
    {
     "data": {
      "text/plain": [
       "'hubham hello shubham'"
      ]
     },
     "execution_count": 23,
     "metadata": {},
     "output_type": "execute_result"
    }
   ],
   "source": [
    "#strip()\n",
    "#remove the last first same character\n",
    "str='shubham hello shubhams'\n",
    "str.strip('s')"
   ]
  },
  {
   "cell_type": "code",
   "execution_count": 38,
   "id": "d2acd0fd-9d56-441a-b638-e09e53107636",
   "metadata": {},
   "outputs": [
    {
     "data": {
      "text/plain": [
       "True"
      ]
     },
     "execution_count": 38,
     "metadata": {},
     "output_type": "execute_result"
    }
   ],
   "source": [
    "#startswith()\n",
    "#return boolen value true if string starts with 'he'\n",
    "str2='hello shubham'\n",
    "str2.startswith('he')"
   ]
  },
  {
   "cell_type": "code",
   "execution_count": 41,
   "id": "2e3f1a5c-e695-4691-a02b-60866d70df1a",
   "metadata": {},
   "outputs": [
    {
     "ename": "AttributeError",
     "evalue": "'str' object has no attribute 'endsswith'",
     "output_type": "error",
     "traceback": [
      "\u001b[1;31m---------------------------------------------------------------------------\u001b[0m",
      "\u001b[1;31mAttributeError\u001b[0m                            Traceback (most recent call last)",
      "Cell \u001b[1;32mIn[41], line 4\u001b[0m\n\u001b[0;32m      1\u001b[0m \u001b[38;5;66;03m#endswith()\u001b[39;00m\n\u001b[0;32m      2\u001b[0m \u001b[38;5;66;03m# return boolean value true if string ends with\"am\"\u001b[39;00m\n\u001b[0;32m      3\u001b[0m mystr1\u001b[38;5;241m=\u001b[39m\u001b[38;5;124m'\u001b[39m\u001b[38;5;124mhello shubham\u001b[39m\u001b[38;5;124m'\u001b[39m\n\u001b[1;32m----> 4\u001b[0m \u001b[38;5;28mprint\u001b[39m(mystr1\u001b[38;5;241m.\u001b[39mendsswith(\u001b[38;5;124m'\u001b[39m\u001b[38;5;124mam\u001b[39m\u001b[38;5;124m'\u001b[39m))\n",
      "\u001b[1;31mAttributeError\u001b[0m: 'str' object has no attribute 'endsswith'"
     ]
    }
   ],
   "source": [
    "#endswith()\n",
    "# return boolean value true if string ends with\"am\"\n",
    "mystr1='hello shubham'\n",
    "print(mystr1.endsswith('am'))"
   ]
  },
  {
   "cell_type": "code",
   "execution_count": 52,
   "id": "418aece9-8bbf-4084-a770-74ec7222175d",
   "metadata": {},
   "outputs": [
    {
     "data": {
      "text/plain": [
       "['I', 'love', 'python']"
      ]
     },
     "execution_count": 52,
     "metadata": {},
     "output_type": "execute_result"
    }
   ],
   "source": [
    "#split()\n",
    "# split the  value element\n",
    "str= 'I love python'\n",
    "str.split()"
   ]
  },
  {
   "cell_type": "code",
   "execution_count": 51,
   "id": "839cbb22-1994-4485-8d07-7dabee61c572",
   "metadata": {},
   "outputs": [
    {
     "data": {
      "text/plain": [
       "'The first name str1,The suraname str2 is shubham,jagtap'"
      ]
     },
     "execution_count": 51,
     "metadata": {},
     "output_type": "execute_result"
    }
   ],
   "source": [
    "#combine strings and method using format method\n",
    "str1='shubham'\n",
    "str2='jagtap'\n",
    "'The first name str1,The suraname str2 is {},{}'.format(str1 ,str2)\n"
   ]
  },
  {
   "cell_type": "code",
   "execution_count": null,
   "id": "18b4c552-5cd5-47a2-87e2-32e9be23f31a",
   "metadata": {},
   "outputs": [],
   "source": []
  }
 ],
 "metadata": {
  "kernelspec": {
   "display_name": "Python [conda env:base] *",
   "language": "python",
   "name": "conda-base-py"
  },
  "language_info": {
   "codemirror_mode": {
    "name": "ipython",
    "version": 3
   },
   "file_extension": ".py",
   "mimetype": "text/x-python",
   "name": "python",
   "nbconvert_exporter": "python",
   "pygments_lexer": "ipython3",
   "version": "3.12.7"
  }
 },
 "nbformat": 4,
 "nbformat_minor": 5
}
