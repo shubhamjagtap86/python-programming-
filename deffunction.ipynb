{
 "cells": [
  {
   "cell_type": "code",
   "execution_count": null,
   "id": "d4246d8f-dcb1-4a03-bd7c-c12d752b0748",
   "metadata": {},
   "outputs": [],
   "source": [
    "# function program"
   ]
  },
  {
   "cell_type": "code",
   "execution_count": 1,
   "id": "82802600-5312-43c0-9a9e-f07732fb7a81",
   "metadata": {},
   "outputs": [
    {
     "name": "stdout",
     "output_type": "stream",
     "text": [
      "9\n"
     ]
    }
   ],
   "source": [
    "# Using def\n",
    "def sqdef(x):\n",
    "    return x ** 2\n",
    "print(sqdef(3))"
   ]
  },
  {
   "cell_type": "code",
   "execution_count": 2,
   "id": "f7f120d3-a618-40d3-a93c-bb6002e1ee4e",
   "metadata": {},
   "outputs": [
    {
     "name": "stdout",
     "output_type": "stream",
     "text": [
      "after wapping a: 5\n",
      "after swapping 4\n"
     ]
    }
   ],
   "source": [
    "def swap_numbers(a, b):\n",
    "    temp = a\n",
    "    a = b\n",
    "    b = temp\n",
    "    return a, b\n",
    "\n",
    "x, y = swap_numbers(4,5)\n",
    "print(\"after wapping a:\",x)\n",
    "print(\"after swapping\",y)"
   ]
  },
  {
   "cell_type": "code",
   "execution_count": 3,
   "id": "68ba2587-72ff-43e0-9bcd-4fd63c5e755e",
   "metadata": {},
   "outputs": [
    {
     "name": "stdout",
     "output_type": "stream",
     "text": [
      "even\n",
      "odd\n"
     ]
    }
   ],
   "source": [
    "#evenodd ()\n",
    "# A simple Python function to check\n",
    "# whether x is even or odd\n",
    "def evenOdd(x):\n",
    "    if (x % 2 == 0):\n",
    "        print(\"even\")\n",
    "    else:\n",
    "        print(\"odd\")\n",
    "\n",
    "\n",
    "# Driver code to call the function\n",
    "evenOdd(2)\n",
    "evenOdd(3)"
   ]
  },
  {
   "cell_type": "code",
   "execution_count": 8,
   "id": "fa59710e-0d65-474d-a459-933da80f41d4",
   "metadata": {},
   "outputs": [
    {
     "name": "stdout",
     "output_type": "stream",
     "text": [
      "x:  10\n",
      "y:  20\n"
     ]
    }
   ],
   "source": [
    "# pass the argument\n",
    "# Python program to demonstrate\n",
    "# default arguments\n",
    "def myFun(x, y):\n",
    "    print(\"x: \", x)\n",
    "    print(\"y: \", y)\n",
    "\n",
    "\n",
    "# Driver code (We call myFun() with only\n",
    "# argument)\n",
    "myFun(10,20)"
   ]
  },
  {
   "cell_type": "code",
   "execution_count": 21,
   "id": "3934b8a9-adb8-4b77-bd67-75e059e8172c",
   "metadata": {},
   "outputs": [
    {
     "name": "stdout",
     "output_type": "stream",
     "text": [
      "Square: 9\n"
     ]
    }
   ],
   "source": [
    "# function definition\n",
    "def find_square(num):\n",
    "    result = num * num\n",
    "    return result\n",
    "\n",
    "# function call\n",
    "square = find_square(3)\n",
    "\n",
    "print('Square:', square)"
   ]
  },
  {
   "cell_type": "code",
   "execution_count": 31,
   "id": "7c72af85-5ffa-4f42-985d-a992ed65ac3f",
   "metadata": {},
   "outputs": [
    {
     "name": "stdout",
     "output_type": "stream",
     "text": [
      "7\n",
      "13\n",
      "11\n"
     ]
    },
    {
     "data": {
      "text/plain": [
       "11"
      ]
     },
     "execution_count": 31,
     "metadata": {},
     "output_type": "execute_result"
    }
   ],
   "source": [
    "def calculate_sum(a,b):\n",
    "    sum=a+b\n",
    "    print(sum)\n",
    "    return sum\n",
    "calculate_sum(2,5)\n",
    "calculate_sum(6,7)\n",
    "calculate_sum(4,7)\n",
    "\n"
   ]
  },
  {
   "cell_type": "code",
   "execution_count": 36,
   "id": "466ad20f-b2a8-4d56-af14-212ea05cd112",
   "metadata": {},
   "outputs": [
    {
     "data": {
      "text/plain": [
       "83.66666666666667"
      ]
     },
     "execution_count": 36,
     "metadata": {},
     "output_type": "execute_result"
    }
   ],
   "source": [
    "#average of three number\n",
    "def averge_cal(a,b,c):\n",
    "    sum=a+b+c\n",
    "    avg=sum/3\n",
    "    return avg\n",
    "averge_cal(86,78,87)"
   ]
  },
  {
   "cell_type": "code",
   "execution_count": 43,
   "id": "b7e10056-11a4-48e8-b908-1236a2d4df16",
   "metadata": {},
   "outputs": [
    {
     "name": "stdout",
     "output_type": "stream",
     "text": [
      "15\n"
     ]
    },
    {
     "data": {
      "text/plain": [
       "15"
      ]
     },
     "execution_count": 43,
     "metadata": {},
     "output_type": "execute_result"
    }
   ],
   "source": [
    "def cal_prod(a,b):\n",
    "    print(a*b)\n",
    "    return a*b\n",
    "cal_prod(3,5)"
   ]
  },
  {
   "cell_type": "code",
   "execution_count": 50,
   "id": "ec230d34-2b79-4498-bc10-2d432c07046f",
   "metadata": {},
   "outputs": [
    {
     "name": "stdout",
     "output_type": "stream",
     "text": [
      "3\n"
     ]
    }
   ],
   "source": [
    "#length of list using \n",
    "cities=['karad','pune','satara']\n",
    "def print_len(list):\n",
    "    print(len(list))\n",
    "print_len(cities)\n",
    "    \n",
    "\n"
   ]
  },
  {
   "cell_type": "code",
   "execution_count": 7,
   "id": "761dd91b-f1d9-473f-94b1-00007840ca72",
   "metadata": {},
   "outputs": [],
   "source": [
    "## function to remove duplicate from given list\n",
    "def list_duplicate(x):\n",
    "    y=[]\n",
    "    for i in x:\n",
    "        if i not in y:\n",
    "            y.append(i)\n",
    "    return y\n",
    "\n"
   ]
  },
  {
   "cell_type": "code",
   "execution_count": 8,
   "id": "48e402a0-b6a9-40d0-9094-99b23e3baf54",
   "metadata": {},
   "outputs": [
    {
     "data": {
      "text/plain": [
       "[12, 14, 15, 16]"
      ]
     },
     "execution_count": 8,
     "metadata": {},
     "output_type": "execute_result"
    }
   ],
   "source": [
    "list_duplicate([12,14,15,12,16])"
   ]
  },
  {
   "cell_type": "code",
   "execution_count": 9,
   "id": "43ba1f11-e521-413c-b6d8-c38a14be74b9",
   "metadata": {},
   "outputs": [],
   "source": [
    "def v2(x):\n",
    "    return list(set(x))\n"
   ]
  },
  {
   "cell_type": "code",
   "execution_count": 10,
   "id": "6d1fc971-07fa-4f4d-9cba-0024b76822e0",
   "metadata": {},
   "outputs": [
    {
     "data": {
      "text/plain": [
       "[1, 2, 3]"
      ]
     },
     "execution_count": 10,
     "metadata": {},
     "output_type": "execute_result"
    }
   ],
   "source": [
    "v2([1,1,2,2,3])"
   ]
  },
  {
   "cell_type": "code",
   "execution_count": 11,
   "id": "ceace1d7-5716-447d-ac38-6b0602837530",
   "metadata": {},
   "outputs": [],
   "source": [
    "#using function positive negative\n",
    "def v2(num1):\n",
    "    if num1>0:\n",
    "        print(\"number is positive\")\n",
    "    else:\n",
    "        print(\"number is negative\")\n",
    "        \n"
   ]
  },
  {
   "cell_type": "code",
   "execution_count": 12,
   "id": "31abac87-d60e-416b-bacd-5e0cbbb65dfe",
   "metadata": {},
   "outputs": [
    {
     "name": "stdout",
     "output_type": "stream",
     "text": [
      "number is positive\n"
     ]
    }
   ],
   "source": [
    "v2(3)"
   ]
  },
  {
   "cell_type": "code",
   "execution_count": 8,
   "id": "3c0af826-c2df-4266-80b0-47822e34578c",
   "metadata": {},
   "outputs": [],
   "source": [
    "def v1(num1):\n",
    "    \n",
    "    if num1==1:\n",
    "        \n",
    "        print(\"sunday\")\n",
    "    elif num1==2:\n",
    "         print(\"monday\")\n",
    "    elif num1==3:\n",
    "        \n",
    "        print(\"tuesday\")\n",
    "    elif num1==4:\n",
    "        print(\"wednesday\")\n",
    "    elif num1==5:\n",
    "        print(\"thursday\")\n",
    "    elif num1==6:\n",
    "        print(\"friday\")\n",
    "    elif num1==7:\n",
    "        print(\"saturday\")\n",
    "    else:\n",
    "         print(\"enter 1 to 7\")\n",
    "    \n",
    "    \n",
    "    \n",
    "    \n",
    "    "
   ]
  },
  {
   "cell_type": "code",
   "execution_count": 10,
   "id": "0e3129ff-303a-4844-9013-c9c39f83a16e",
   "metadata": {},
   "outputs": [
    {
     "name": "stdout",
     "output_type": "stream",
     "text": [
      "wednesday\n"
     ]
    }
   ],
   "source": [
    "v1(4)"
   ]
  },
  {
   "cell_type": "code",
   "execution_count": 28,
   "id": "05d7f771-9b32-4df6-86ab-4bf71e9c4b4b",
   "metadata": {},
   "outputs": [
    {
     "name": "stdout",
     "output_type": "stream",
     "text": [
      "squrt root of 4.000 is 2.000\n"
     ]
    },
    {
     "data": {
      "text/plain": [
       "4"
      ]
     },
     "execution_count": 28,
     "metadata": {},
     "output_type": "execute_result"
    }
   ],
   "source": [
    " def num():\n",
    "     num=4\n",
    "     num_sqrt=num**0.5\n",
    "     print(\"squrt root of %0.3f is %0.3f\"%(num,num_sqrt))\n",
    "     return num\n",
    " num()"
   ]
  },
  {
   "cell_type": "code",
   "execution_count": 4,
   "id": "6ab8a8d5-7bb3-4682-96fd-00cef3491803",
   "metadata": {},
   "outputs": [
    {
     "name": "stdout",
     "output_type": "stream",
     "text": [
      "5\n",
      "10\n",
      "15\n",
      "20\n",
      "25\n",
      "30\n",
      "35\n",
      "40\n",
      "45\n",
      "50\n",
      "hello\n"
     ]
    }
   ],
   "source": [
    "def num(n):\n",
    "    i = 1\n",
    "    while i <= 10:\n",
    "        print(n * i)\n",
    "        i += 1\n",
    "    return i\n",
    "\n",
    "num(5) \n",
    "print(\"hello\")\n",
    "\n",
    "    "
   ]
  },
  {
   "cell_type": "code",
   "execution_count": null,
   "id": "d99ee42c-a013-4408-bbdd-cb921ec32f65",
   "metadata": {},
   "outputs": [],
   "source": []
  },
  {
   "cell_type": "code",
   "execution_count": null,
   "id": "70ae8b23-82ed-4231-b1d5-eac919a864ea",
   "metadata": {},
   "outputs": [],
   "source": []
  },
  {
   "cell_type": "code",
   "execution_count": null,
   "id": "d4b14967-445d-4ad5-8196-e535d1e13e2d",
   "metadata": {},
   "outputs": [],
   "source": []
  }
 ],
 "metadata": {
  "kernelspec": {
   "display_name": "Python [conda env:base] *",
   "language": "python",
   "name": "conda-base-py"
  },
  "language_info": {
   "codemirror_mode": {
    "name": "ipython",
    "version": 3
   },
   "file_extension": ".py",
   "mimetype": "text/x-python",
   "name": "python",
   "nbconvert_exporter": "python",
   "pygments_lexer": "ipython3",
   "version": "3.13.5"
  }
 },
 "nbformat": 4,
 "nbformat_minor": 5
}
