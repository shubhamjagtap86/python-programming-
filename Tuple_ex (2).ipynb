{
 "cells": [
  {
   "cell_type": "markdown",
   "id": "aa33179e-c66d-4c5c-8e3d-9d7608f0ba67",
   "metadata": {},
   "source": [
    "# Tuple operation"
   ]
  },
  {
   "cell_type": "code",
   "execution_count": null,
   "id": "7a387fb7-b35b-47d4-aa9b-2a42289dc4ea",
   "metadata": {},
   "outputs": [],
   "source": [
    "tuple1=(1,2,3,4,5,6,7,8,9,10)\n",
    "# access tuple index wise\n",
    "#index operation\n",
    "tuple1.index(4)\n",
    "# return the index value"
   ]
  },
  {
   "cell_type": "code",
   "execution_count": 11,
   "id": "8a8eb380-174c-42e6-99f4-96b44c5d1c35",
   "metadata": {},
   "outputs": [
    {
     "name": "stdout",
     "output_type": "stream",
     "text": [
      "3\n"
     ]
    }
   ],
   "source": [
    "#count method\n",
    "tuple2=(10,20,30,40,20,20)\n",
    "x=tuple2.count(20)\n",
    "print(x)"
   ]
  },
  {
   "cell_type": "code",
   "execution_count": 12,
   "id": "7fec987b-7260-40de-a2f3-4acc8ea7be9f",
   "metadata": {},
   "outputs": [
    {
     "name": "stdout",
     "output_type": "stream",
     "text": [
      "(10, 20, 30, 40, 20, 20, 10, 20, 30, 40, 20, 20, 10, 20, 30, 40, 20, 20)\n"
     ]
    }
   ],
   "source": [
    "# repetation  the tuple elements\n",
    "print(3*tuple2)\n"
   ]
  },
  {
   "cell_type": "code",
   "execution_count": 17,
   "id": "2947e67d-394c-49c0-9d3b-0f7419b1fbde",
   "metadata": {},
   "outputs": [
    {
     "data": {
      "text/plain": [
       "(1, 2, 3, 4, 5, 4, 5, 6, 7)"
      ]
     },
     "execution_count": 17,
     "metadata": {},
     "output_type": "execute_result"
    }
   ],
   "source": [
    "#concatenate the elements\n",
    "tuple3=(1,2,3,4,5)\n",
    "tuple4=(4,5,6,7)\n",
    "tuple3+tuple4"
   ]
  },
  {
   "cell_type": "code",
   "execution_count": 20,
   "id": "626f13ee-6090-4cd9-81e9-d2c9be3af5d4",
   "metadata": {},
   "outputs": [
    {
     "data": {
      "text/plain": [
       "True"
      ]
     },
     "execution_count": 20,
     "metadata": {},
     "output_type": "execute_result"
    }
   ],
   "source": [
    "#membership operation\n",
    "tup=(1,2,3,4,5)\n",
    "#in operator in membership operator\n",
    "2 in tup"
   ]
  },
  {
   "cell_type": "code",
   "execution_count": 21,
   "id": "0f48ec39-67f5-4bfc-86ba-429b784db3e0",
   "metadata": {},
   "outputs": [
    {
     "data": {
      "text/plain": [
       "False"
      ]
     },
     "execution_count": 21,
     "metadata": {},
     "output_type": "execute_result"
    }
   ],
   "source": [
    "#membership operation\n",
    "tup=(1,2,3,4,5)\n",
    "# not in operator in membership operator\n",
    "2  not in tup"
   ]
  },
  {
   "cell_type": "code",
   "execution_count": 23,
   "id": "880018a4-b93e-4b2d-8c2a-61bf147e639d",
   "metadata": {},
   "outputs": [
    {
     "name": "stdout",
     "output_type": "stream",
     "text": [
      "1\n",
      "2\n",
      "3\n",
      "4\n",
      "5\n"
     ]
    }
   ],
   "source": [
    "# itration the tuple\n",
    "#lopping itration\n",
    "for i in tup:\n",
    "    print(i)\n"
   ]
  },
  {
   "cell_type": "code",
   "execution_count": 25,
   "id": "6bb6b72b-dfd8-49c6-88a1-9aded06aa305",
   "metadata": {},
   "outputs": [
    {
     "data": {
      "text/plain": [
       "5"
      ]
     },
     "execution_count": 25,
     "metadata": {},
     "output_type": "execute_result"
    }
   ],
   "source": [
    "# length of tuple\n",
    "len(tup)"
   ]
  },
  {
   "cell_type": "code",
   "execution_count": 26,
   "id": "78931edd-7de3-40e7-9f2f-5e7045aee247",
   "metadata": {},
   "outputs": [
    {
     "data": {
      "text/plain": [
       "5"
      ]
     },
     "execution_count": 26,
     "metadata": {},
     "output_type": "execute_result"
    }
   ],
   "source": [
    "#maximum function in tuple\n",
    "max(tup)"
   ]
  },
  {
   "cell_type": "code",
   "execution_count": 27,
   "id": "a53d4b17-e27a-4c8b-9207-3419356138ca",
   "metadata": {},
   "outputs": [
    {
     "data": {
      "text/plain": [
       "1"
      ]
     },
     "execution_count": 27,
     "metadata": {},
     "output_type": "execute_result"
    }
   ],
   "source": [
    "#minimum function in tuple\n",
    "min(tup)"
   ]
  },
  {
   "cell_type": "code",
   "execution_count": 35,
   "id": "bf6630f6-11c1-4cc2-90ca-071ffc026319",
   "metadata": {},
   "outputs": [
    {
     "name": "stdout",
     "output_type": "stream",
     "text": [
      "(10, 20, 30, 40)\n"
     ]
    }
   ],
   "source": [
    "#secified sequence tuple\n",
    "# first create list\n",
    "l1=[10,20,30,40]\n",
    "#convert list in tuple in tuple function\n",
    "tup8=tuple(l1)\n",
    "#print tuple\n",
    "print(tup8)"
   ]
  },
  {
   "cell_type": "code",
   "execution_count": 4,
   "id": "8c90b874-9092-4855-b5d2-db032bd38fc4",
   "metadata": {},
   "outputs": [
    {
     "name": "stdout",
     "output_type": "stream",
     "text": [
      "[10, 23, 34, 54, 76]\n"
     ]
    }
   ],
   "source": [
    "#sorting tuple\n",
    "tup7=(10,54,76,34,23)\n",
    "sorted_tuple=sorted(tup7)\n",
    "#print after sorting tuple\n",
    "print(sorted_tuple)\n",
    "\n"
   ]
  },
  {
   "cell_type": "code",
   "execution_count": null,
   "id": "bf90d439-9d7e-474f-a675-51cadaa9e6c4",
   "metadata": {},
   "outputs": [],
   "source": []
  },
  {
   "cell_type": "code",
   "execution_count": null,
   "id": "dab5dcd3-37fc-4082-a2bb-123791209937",
   "metadata": {},
   "outputs": [],
   "source": []
  }
 ],
 "metadata": {
  "kernelspec": {
   "display_name": "Python [conda env:base] *",
   "language": "python",
   "name": "conda-base-py"
  },
  "language_info": {
   "codemirror_mode": {
    "name": "ipython",
    "version": 3
   },
   "file_extension": ".py",
   "mimetype": "text/x-python",
   "name": "python",
   "nbconvert_exporter": "python",
   "pygments_lexer": "ipython3",
   "version": "3.13.5"
  }
 },
 "nbformat": 4,
 "nbformat_minor": 5
}
