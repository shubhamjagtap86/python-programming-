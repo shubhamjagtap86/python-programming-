{
 "cells": [
  {
   "cell_type": "markdown",
   "id": "e1d9e2c2-8235-4e12-9074-0a4ef546cbd9",
   "metadata": {},
   "source": [
    "  # list operation"
   ]
  },
  {
   "cell_type": "code",
   "execution_count": 1,
   "id": "ce8049b6-d574-428a-8078-fd9f98b89612",
   "metadata": {},
   "outputs": [
    {
     "name": "stdout",
     "output_type": "stream",
     "text": [
      "[10, 20, 30, 40, 50, 60, 70, 80, 90, 100, 110]\n"
     ]
    }
   ],
   "source": [
    "l1=[10,20,30,40,50,60,70,80,90,100]\n",
    "#add element in end of the list with use in append method\n",
    "# list to add 110 element\n",
    "l1.append(110)\n",
    "print(l1)\n"
   ]
  },
  {
   "cell_type": "code",
   "execution_count": 8,
   "id": "dc8b9dc0-7de3-4d40-9f8f-7d5c4fd9290e",
   "metadata": {},
   "outputs": [
    {
     "name": "stdout",
     "output_type": "stream",
     "text": [
      "[2, 4, 6, 8, 10, 20, 30, 40, 50, 60, 70, 80, 90, 100, 110, 2, 4, 6, 8, 2, 4, 6, 8]\n"
     ]
    }
   ],
   "source": [
    "#create another list\n",
    "l2=[2,4,6,8]\n",
    "#l2 list is extend in l1 list\n",
    "l2.extend(l1)\n",
    "# print all element list l1 to list l2\n",
    "print(l2)\n"
   ]
  },
  {
   "cell_type": "code",
   "execution_count": 10,
   "id": "68e7aca2-addb-434b-af84-49a77e89310b",
   "metadata": {},
   "outputs": [
    {
     "name": "stdout",
     "output_type": "stream",
     "text": [
      "['siddesh', 'karan', 'pranav', 'shubham']\n"
     ]
    }
   ],
   "source": [
    "# insert element in list\n",
    "names=['siddesh','karan','shubham']\n",
    "#insert the new element in list perticular index\n",
    "names.insert(2,'pranav')\n",
    "print(names)"
   ]
  },
  {
   "cell_type": "code",
   "execution_count": 13,
   "id": "95c6ce17-d309-42f6-9fa1-0d43e35272f3",
   "metadata": {},
   "outputs": [
    {
     "name": "stdout",
     "output_type": "stream",
     "text": [
      "['siddesh', 'karan', 'shubham']\n"
     ]
    }
   ],
   "source": [
    "#remove element in list\n",
    "names.remove('pranav')\n",
    "popprint(names)"
   ]
  },
  {
   "cell_type": "code",
   "execution_count": 22,
   "id": "b1094266-34b4-41d5-aa5b-03167e5065db",
   "metadata": {},
   "outputs": [
    {
     "name": "stdout",
     "output_type": "stream",
     "text": [
      "['a', 'b', 'c', 'd', 'e']\n",
      "['a', 'b', 'c', 'd']\n"
     ]
    }
   ],
   "source": [
    "#pop the elements\n",
    "list5=['a','b','c','d','e']\n",
    "print(list5)\n",
    "list5.pop()\n",
    "print(list5)"
   ]
  },
  {
   "cell_type": "code",
   "execution_count": 27,
   "id": "399749db-9408-4d0c-96f3-8f48fd4caacb",
   "metadata": {},
   "outputs": [
    {
     "name": "stdout",
     "output_type": "stream",
     "text": [
      "[]\n"
     ]
    }
   ],
   "source": [
    "#list clear opertion throug \n",
    "list6=[12,23,87,67,98]\n",
    "list6.clear()\n",
    "print(list6)"
   ]
  },
  {
   "cell_type": "code",
   "execution_count": 1,
   "id": "5185d281-e18b-411d-8fb5-6cea41e9af8d",
   "metadata": {},
   "outputs": [
    {
     "data": {
      "text/plain": [
       "[1, 2, 3, 1, 2, 3, 1, 2, 3]"
      ]
     },
     "execution_count": 1,
     "metadata": {},
     "output_type": "execute_result"
    }
   ],
   "source": [
    "#repetition operation\n",
    "list3=[1,2,3]\n",
    "#three times value are printing\n",
    "list3*3"
   ]
  },
  {
   "cell_type": "code",
   "execution_count": 13,
   "id": "eda50af6-43c7-4993-aee9-9c224b495c78",
   "metadata": {},
   "outputs": [
    {
     "data": {
      "text/plain": [
       "True"
      ]
     },
     "execution_count": 13,
     "metadata": {},
     "output_type": "execute_result"
    }
   ],
   "source": [
    "#membership opertion\n",
    "# in operator in list\n",
    "li1=[1,2,3,4,5,6,7,8,9,10]\n",
    "5 in li1\n",
    "    \n",
    "    "
   ]
  },
  {
   "cell_type": "code",
   "execution_count": 15,
   "id": "af002b1d-e4e3-4932-abe9-60aacaa9651b",
   "metadata": {},
   "outputs": [
    {
     "data": {
      "text/plain": [
       "True"
      ]
     },
     "execution_count": 15,
     "metadata": {},
     "output_type": "execute_result"
    }
   ],
   "source": [
    "#not in opertaion\n",
    "11 not in li1\n"
   ]
  },
  {
   "cell_type": "code",
   "execution_count": 16,
   "id": "c10e0529-5ab8-4cd4-a5fb-224e1193d9d4",
   "metadata": {},
   "outputs": [
    {
     "data": {
      "text/plain": [
       "False"
      ]
     },
     "execution_count": 16,
     "metadata": {},
     "output_type": "execute_result"
    }
   ],
   "source": [
    "11 in li1"
   ]
  },
  {
   "cell_type": "code",
   "execution_count": 22,
   "id": "2d958108-613b-47ab-8271-7837e8c4bb3c",
   "metadata": {},
   "outputs": [
    {
     "name": "stdout",
     "output_type": "stream",
     "text": [
      "[1, 2, 3, 4, 5, 6, 6, 8]\n"
     ]
    }
   ],
   "source": [
    "#sort method\n",
    "li2=[3,1,2,4,5,6,8,6]\n",
    "#sort list in acesnding order\n",
    "li2.sort()\n",
    "print(li2)"
   ]
  },
  {
   "cell_type": "code",
   "execution_count": 25,
   "id": "de499c89-9ae3-477f-a136-7fe55d7af4af",
   "metadata": {},
   "outputs": [
    {
     "name": "stdout",
     "output_type": "stream",
     "text": [
      "[8, 6, 6, 5, 4, 3, 2, 1]\n"
     ]
    }
   ],
   "source": [
    "#reverse sorting\n",
    "li2.sort(reverse=True)\n",
    "#list are print decending order\n",
    "print(li2)"
   ]
  },
  {
   "cell_type": "code",
   "execution_count": 29,
   "id": "3fe9d279-4a2c-4531-be23-55f5e19ba746",
   "metadata": {},
   "outputs": [
    {
     "data": {
      "text/plain": [
       "3"
      ]
     },
     "execution_count": 29,
     "metadata": {},
     "output_type": "execute_result"
    }
   ],
   "source": [
    "#count operation\n",
    "li3=[1,2,5,4,5,6,5]\n",
    "#count the number of elements\n",
    "li3.count(5)"
   ]
  },
  {
   "cell_type": "code",
   "execution_count": 44,
   "id": "39ce0f7e-0fa8-45ff-9f26-857c1f36f0c2",
   "metadata": {},
   "outputs": [
    {
     "name": "stdout",
     "output_type": "stream",
     "text": [
      "0\n",
      "1\n",
      "2\n",
      "3\n",
      "4\n"
     ]
    }
   ],
   "source": [
    "for i in range(5):\n",
    "    print(i)"
   ]
  },
  {
   "cell_type": "code",
   "execution_count": 47,
   "id": "ed08d734-608d-42e8-99f5-5de3a62162a9",
   "metadata": {},
   "outputs": [
    {
     "name": "stdout",
     "output_type": "stream",
     "text": [
      "0\n",
      "1\n",
      "2\n",
      "3\n",
      "4\n"
     ]
    }
   ],
   "source": [
    "# itration operation\n",
    "for i in range(5):\n",
    "    print(i)"
   ]
  },
  {
   "cell_type": "code",
   "execution_count": 39,
   "id": "bca9a0bd-5309-4be8-8f12-89080d89a43b",
   "metadata": {},
   "outputs": [
    {
     "data": {
      "text/plain": [
       "7"
      ]
     },
     "execution_count": 39,
     "metadata": {},
     "output_type": "execute_result"
    }
   ],
   "source": [
    "#find length function\n",
    "len(li3)"
   ]
  },
  {
   "cell_type": "code",
   "execution_count": 40,
   "id": "b6956dc2-5084-4c6c-b86c-b6e271c99338",
   "metadata": {},
   "outputs": [
    {
     "data": {
      "text/plain": [
       "6"
      ]
     },
     "execution_count": 40,
     "metadata": {},
     "output_type": "execute_result"
    }
   ],
   "source": [
    "#max fuction\n",
    "max(li3)"
   ]
  },
  {
   "cell_type": "code",
   "execution_count": 43,
   "id": "8f68a883-656a-41a6-8e90-022d4bf33b47",
   "metadata": {},
   "outputs": [
    {
     "data": {
      "text/plain": [
       "1"
      ]
     },
     "execution_count": 43,
     "metadata": {},
     "output_type": "execute_result"
    }
   ],
   "source": [
    "#min value\n",
    "min(li3)"
   ]
  },
  {
   "cell_type": "code",
   "execution_count": 49,
   "id": "9aec0fe8-fd8a-4fc1-9db7-e08228bad897",
   "metadata": {},
   "outputs": [
    {
     "name": "stdout",
     "output_type": "stream",
     "text": [
      "[1, 2, 5, 4, 5, 6, 5]\n"
     ]
    }
   ],
   "source": [
    "#copy method of list\n",
    "li4=li3.copy()\n",
    "print(li4)"
   ]
  },
  {
   "cell_type": "code",
   "execution_count": null,
   "id": "1392a1bc-4fbd-4d3f-a3b3-e7a4b8accf82",
   "metadata": {},
   "outputs": [],
   "source": []
  },
  {
   "cell_type": "code",
   "execution_count": null,
   "id": "97e304e2-3912-4499-91dc-ef38ffa68276",
   "metadata": {},
   "outputs": [],
   "source": []
  }
 ],
 "metadata": {
  "kernelspec": {
   "display_name": "Python [conda env:base] *",
   "language": "python",
   "name": "conda-base-py"
  },
  "language_info": {
   "codemirror_mode": {
    "name": "ipython",
    "version": 3
   },
   "file_extension": ".py",
   "mimetype": "text/x-python",
   "name": "python",
   "nbconvert_exporter": "python",
   "pygments_lexer": "ipython3",
   "version": "3.13.5"
  }
 },
 "nbformat": 4,
 "nbformat_minor": 5
}
