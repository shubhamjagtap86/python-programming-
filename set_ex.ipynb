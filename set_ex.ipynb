{
 "cells": [
  {
   "cell_type": "markdown",
   "id": "6a2e08d1-145d-4ef0-b3ae-1e75b414eeab",
   "metadata": {},
   "source": [
    "# set function"
   ]
  },
  {
   "cell_type": "code",
   "execution_count": 6,
   "id": "6ffac0cf-bac0-4904-b5bc-1f0dd40615eb",
   "metadata": {},
   "outputs": [],
   "source": [
    "\n",
    "A  =  {1,2,3,4,5}\n",
    "B  =  {4,5,6,7,8}"
   ]
  },
  {
   "cell_type": "code",
   "execution_count": 1,
   "id": "1dc1865f-5401-498d-b974-924fdc7a8f45",
   "metadata": {},
   "outputs": [
    {
     "name": "stdout",
     "output_type": "stream",
     "text": [
      "{1, 2, 3, 4, 5, 6, 7}\n"
     ]
    }
   ],
   "source": [
    "#create a set\n",
    "collection={1,2,3,4,5,6,7,3}\n",
    "#repeated value ignor\n",
    "print(collection)"
   ]
  },
  {
   "cell_type": "code",
   "execution_count": 16,
   "id": "c624de41-a719-469e-b01a-e2673adea9b5",
   "metadata": {},
   "outputs": [
    {
     "name": "stdout",
     "output_type": "stream",
     "text": [
      "<class 'dict'>\n"
     ]
    }
   ],
   "source": [
    "#find type\n",
    "print(type(collection))"
   ]
  },
  {
   "cell_type": "code",
   "execution_count": 31,
   "id": "ea3df511-2de5-450a-924e-305441609252",
   "metadata": {},
   "outputs": [
    {
     "name": "stdout",
     "output_type": "stream",
     "text": [
      "<class 'dict'>\n"
     ]
    }
   ],
   "source": [
    "#empty set\n",
    "set1={}\n",
    "#by default find type the dictionary\n",
    "print(type(set1))\n",
    "\n"
   ]
  },
  {
   "cell_type": "code",
   "execution_count": 7,
   "id": "ca379247-2e95-4ef9-9d5c-12cfd73e0028",
   "metadata": {},
   "outputs": [
    {
     "data": {
      "text/plain": [
       "{1, 2, 3, 4, 5, 6, 7, 8}"
      ]
     },
     "execution_count": 7,
     "metadata": {},
     "output_type": "execute_result"
    }
   ],
   "source": [
    "A.union(B) "
   ]
  },
  {
   "cell_type": "code",
   "execution_count": 8,
   "id": "150a71aa-17ac-4837-a352-539db2f3463e",
   "metadata": {},
   "outputs": [
    {
     "data": {
      "text/plain": [
       "{4, 5}"
      ]
     },
     "execution_count": 8,
     "metadata": {},
     "output_type": "execute_result"
    }
   ],
   "source": [
    "A.intersection(B)"
   ]
  },
  {
   "cell_type": "code",
   "execution_count": 9,
   "id": "2ae2e8c8-5976-4268-beb6-061bc35dc26c",
   "metadata": {},
   "outputs": [
    {
     "data": {
      "text/plain": [
       "{1, 2, 3}"
      ]
     },
     "execution_count": 9,
     "metadata": {},
     "output_type": "execute_result"
    }
   ],
   "source": [
    "A.difference(B)"
   ]
  },
  {
   "cell_type": "code",
   "execution_count": 5,
   "id": "12066506-de9f-42ab-acdb-ae61d3ee56e2",
   "metadata": {},
   "outputs": [
    {
     "data": {
      "text/plain": [
       "{6, 7, 8}"
      ]
     },
     "execution_count": 5,
     "metadata": {},
     "output_type": "execute_result"
    }
   ],
   "source": [
    "B.difference(A)"
   ]
  },
  {
   "cell_type": "code",
   "execution_count": 36,
   "id": "84eda18e-12e2-4a91-bc01-2d2b3e921e2c",
   "metadata": {},
   "outputs": [],
   "source": [
    "#set method\n"
   ]
  },
  {
   "cell_type": "code",
   "execution_count": 2,
   "id": "30ba5977-8c95-410d-b182-30512d4be296",
   "metadata": {},
   "outputs": [
    {
     "name": "stdout",
     "output_type": "stream",
     "text": [
      "{1, 2, 10, 20, 'shubham'}\n"
     ]
    }
   ],
   "source": [
    "#add element in set by deafulat order\n",
    "set5={10,20}\n",
    "set5.add(1)\n",
    "set5.add(2)\n",
    "set5.add(\"shubham\")\n",
    "print(set5)"
   ]
  },
  {
   "cell_type": "code",
   "execution_count": 4,
   "id": "9b008af1-faa3-4853-a855-5e159b13e3f2",
   "metadata": {},
   "outputs": [
    {
     "name": "stdout",
     "output_type": "stream",
     "text": [
      "{2, 10, 20}\n"
     ]
    }
   ],
   "source": [
    "#remove method\n",
    "#perticular elements wise\n",
    "set5.remove('shubham')\n",
    "print(set5)"
   ]
  },
  {
   "cell_type": "code",
   "execution_count": 10,
   "id": "69e27f07-ceab-4877-8875-8f5f977bc626",
   "metadata": {},
   "outputs": [
    {
     "name": "stdout",
     "output_type": "stream",
     "text": [
      "set()\n"
     ]
    }
   ],
   "source": [
    "#clear method\n",
    "#clear the all list\n",
    "set1={1,2,3,4,5}\n",
    "set1.clear()\n",
    "print(set1)"
   ]
  },
  {
   "cell_type": "code",
   "execution_count": 13,
   "id": "eeb4ce16-942f-4441-87a6-8a6cd09c7c5b",
   "metadata": {},
   "outputs": [
    {
     "name": "stdout",
     "output_type": "stream",
     "text": [
      "2\n",
      "{4, 6}\n"
     ]
    }
   ],
   "source": [
    "#pop method\n",
    "#values are randomlly remove\n",
    "set2={2,4,6}\n",
    "print(set2.pop())\n",
    "print(set2)"
   ]
  },
  {
   "cell_type": "code",
   "execution_count": null,
   "id": "c01f2fab-7c87-47e0-b3de-c6cb9270777f",
   "metadata": {},
   "outputs": [],
   "source": []
  }
 ],
 "metadata": {
  "kernelspec": {
   "display_name": "Python [conda env:base] *",
   "language": "python",
   "name": "conda-base-py"
  },
  "language_info": {
   "codemirror_mode": {
    "name": "ipython",
    "version": 3
   },
   "file_extension": ".py",
   "mimetype": "text/x-python",
   "name": "python",
   "nbconvert_exporter": "python",
   "pygments_lexer": "ipython3",
   "version": "3.13.5"
  }
 },
 "nbformat": 4,
 "nbformat_minor": 5
}
