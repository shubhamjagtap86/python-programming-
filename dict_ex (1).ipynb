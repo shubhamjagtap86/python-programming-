{
 "cells": [
  {
   "cell_type": "code",
   "execution_count": 1,
   "id": "4c76cf45-c004-471f-aec6-84d04464dfb1",
   "metadata": {},
   "outputs": [],
   "source": [
    "#dictionary create\n"
   ]
  },
  {
   "cell_type": "code",
   "execution_count": 2,
   "id": "c016e2d5-297d-47ad-be00-4b32569be519",
   "metadata": {},
   "outputs": [
    {
     "name": "stdout",
     "output_type": "stream",
     "text": [
      "{'name': 'shubham', 'roll_no': 44, 'address': 'karad'}\n"
     ]
    }
   ],
   "source": [
    "dict1={'name':'shubham',\n",
    "       'roll_no':44,\n",
    "       'address':'karad'\n",
    "      }\n",
    "print(dict1)"
   ]
  },
  {
   "cell_type": "code",
   "execution_count": 4,
   "id": "1963bebb-7628-49e1-8aeb-dc3946001526",
   "metadata": {},
   "outputs": [
    {
     "name": "stdout",
     "output_type": "stream",
     "text": [
      "<class 'dict'>\n"
     ]
    }
   ],
   "source": [
    "print(type(dict1))"
   ]
  },
  {
   "cell_type": "code",
   "execution_count": 6,
   "id": "eb269ecb-d5c4-4df0-a93b-2662b2c0ff28",
   "metadata": {},
   "outputs": [
    {
     "name": "stdout",
     "output_type": "stream",
     "text": [
      "{}\n"
     ]
    }
   ],
   "source": [
    "#empty create dictionary\n",
    "dict2={}\n",
    "print(dict2)"
   ]
  },
  {
   "cell_type": "code",
   "execution_count": 11,
   "id": "525bbe2a-05af-4734-bea4-a03353cf210e",
   "metadata": {},
   "outputs": [
    {
     "name": "stdout",
     "output_type": "stream",
     "text": [
      "{'name': 'shubh', 'class': 'BCA'}\n",
      "BCA\n",
      "shubh\n"
     ]
    }
   ],
   "source": [
    "#multiple ways to print dictionary\n",
    "dict3={'name':'shubh','class':'BCA'}\n",
    "print(dict3)\n",
    "print(dict3['class'])\n",
    "print(dict3.get('name'))\n",
    "    "
   ]
  },
  {
   "cell_type": "code",
   "execution_count": 12,
   "id": "e6e1da1f-2a0d-4552-b3f9-00bdf1b47197",
   "metadata": {},
   "outputs": [
    {
     "name": "stdout",
     "output_type": "stream",
     "text": [
      "{'name': 'karan', 'class': 'BCA'}\n"
     ]
    }
   ],
   "source": [
    "#replace the dictionary value\n",
    "dict3['name']='karan'\n",
    "print(dict3)"
   ]
  },
  {
   "cell_type": "code",
   "execution_count": 13,
   "id": "0129b2c5-9962-45e7-8df8-b74e60c54bca",
   "metadata": {},
   "outputs": [
    {
     "name": "stdout",
     "output_type": "stream",
     "text": [
      "{'name': 'karan', 'class': 'BCA', 'rollno': 43}\n"
     ]
    }
   ],
   "source": [
    "#new add elements\n",
    "dict3['rollno']=43\n",
    "print(dict3)"
   ]
  },
  {
   "cell_type": "code",
   "execution_count": 22,
   "id": "d8a59255-b8e8-48fd-8d2c-127aec34bd12",
   "metadata": {},
   "outputs": [
    {
     "name": "stdout",
     "output_type": "stream",
     "text": [
      "{'name': 'shubh'}\n"
     ]
    }
   ],
   "source": [
    "#deletion operation\n",
    "#specified index\n",
    "dict4={'name':'shubh','address':'pune'}\n",
    "del dict4['address']\n",
    "print(dict4)"
   ]
  },
  {
   "cell_type": "code",
   "execution_count": 23,
   "id": "9590c6c3-2ad9-4261-adb5-d9c6ebdc358c",
   "metadata": {},
   "outputs": [
    {
     "name": "stdout",
     "output_type": "stream",
     "text": [
      "4\n"
     ]
    }
   ],
   "source": [
    "#length function dictionery\n",
    "a={1:3,4:5,5:6,6:7}\n",
    "print(len(a))\n"
   ]
  },
  {
   "cell_type": "code",
   "execution_count": 25,
   "id": "248b2131-fb36-4661-a4d1-a42da170f861",
   "metadata": {},
   "outputs": [
    {
     "name": "stdout",
     "output_type": "stream",
     "text": [
      "False\n"
     ]
    }
   ],
   "source": [
    "#any function\n",
    "#complete as one condition result true\n",
    "#another false\n",
    "b={'':2,0:4}\n",
    "print(any(b))"
   ]
  },
  {
   "cell_type": "code",
   "execution_count": 27,
   "id": "d935ed20-676d-4ab1-8b0b-cce7444d3f1f",
   "metadata": {},
   "outputs": [
    {
     "name": "stdout",
     "output_type": "stream",
     "text": [
      "True\n"
     ]
    }
   ],
   "source": [
    "#one condition true result true\n",
    "b={'rollno':2,0:4}\n",
    "print(any(b))"
   ]
  },
  {
   "cell_type": "code",
   "execution_count": 30,
   "id": "c56df7b4-da90-4bee-a0a0-414d77d6ff82",
   "metadata": {},
   "outputs": [
    {
     "name": "stdout",
     "output_type": "stream",
     "text": [
      "True\n"
     ]
    }
   ],
   "source": [
    "#all function in dictionary\n",
    "# All values are coplete required condition is true\n",
    "#one condition is incomple result false\n",
    "a1={10:3,20:6,30:9}\n",
    "print(all(a1))#true"
   ]
  },
  {
   "cell_type": "code",
   "execution_count": 34,
   "id": "b36a2f95-223f-469d-9032-e1c30c9a337c",
   "metadata": {},
   "outputs": [
    {
     "name": "stdout",
     "output_type": "stream",
     "text": [
      "False\n"
     ]
    }
   ],
   "source": [
    "#all function in dictionary\n",
    "# All values are coplete required condition is true\n",
    "#one condition is incomple result false\n",
    "a1={'':3,20:6,30:9}\n",
    "print(all(a1))# false"
   ]
  },
  {
   "cell_type": "code",
   "execution_count": 35,
   "id": "1d527ee0-a440-47f0-a92e-f3f292e1b56a",
   "metadata": {},
   "outputs": [
    {
     "name": "stdout",
     "output_type": "stream",
     "text": [
      "[1, 2, 10]\n",
      "<class 'dict'>\n"
     ]
    }
   ],
   "source": [
    "#sorted dictionary\n",
    "a2={2:3,10:23,1:2}\n",
    "print(sorted(a2))\n",
    "print(type(a2))"
   ]
  },
  {
   "cell_type": "code",
   "execution_count": 36,
   "id": "991e664a-ae11-45d2-8523-8c3477108f45",
   "metadata": {},
   "outputs": [
    {
     "name": "stdout",
     "output_type": "stream",
     "text": [
      "dict_keys([2, 10, 1])\n"
     ]
    }
   ],
   "source": [
    "#keys function\n",
    "print(a2.keys())"
   ]
  },
  {
   "cell_type": "code",
   "execution_count": 37,
   "id": "dc3b7f69-a19f-4f0e-b40c-2d9ccd5d95eb",
   "metadata": {},
   "outputs": [
    {
     "name": "stdout",
     "output_type": "stream",
     "text": [
      "dict_values([3, 23, 2])\n"
     ]
    }
   ],
   "source": [
    "#values function\n",
    "print(a2.values())"
   ]
  },
  {
   "cell_type": "code",
   "execution_count": 38,
   "id": "3c795e6c-c741-4b12-8c4b-706f58ef599b",
   "metadata": {},
   "outputs": [
    {
     "name": "stdout",
     "output_type": "stream",
     "text": [
      "dict_items([(2, 3), (10, 23), (1, 2)])\n"
     ]
    }
   ],
   "source": [
    "#items function\n",
    "print(a2.items())"
   ]
  },
  {
   "cell_type": "code",
   "execution_count": 41,
   "id": "747f0679-e09b-4bbd-bbe8-9d12f476777c",
   "metadata": {},
   "outputs": [
    {
     "name": "stdout",
     "output_type": "stream",
     "text": [
      "23\n"
     ]
    }
   ],
   "source": [
    "#get function\n",
    "#get the show trhe values\n",
    "print(a2.get(10))"
   ]
  },
  {
   "cell_type": "code",
   "execution_count": 42,
   "id": "6b1c2788-6702-4eec-8c80-1b6d6d781a7b",
   "metadata": {},
   "outputs": [
    {
     "name": "stdout",
     "output_type": "stream",
     "text": [
      "{}\n"
     ]
    }
   ],
   "source": [
    "#clear function\n",
    "a2.clear()\n",
    "#all ilist are clear\n",
    "print(a2)"
   ]
  },
  {
   "cell_type": "code",
   "execution_count": 46,
   "id": "d1d30085-08a7-461e-b881-0745b29daa0f",
   "metadata": {},
   "outputs": [
    {
     "name": "stdout",
     "output_type": "stream",
     "text": [
      "{10: 20, 20: 30, 30: 40}\n"
     ]
    }
   ],
   "source": [
    "#copy method\n",
    "a3={10:20,20:30,30:40}\n",
    "# copy the a3 dictionary b dictionary\n",
    "b=a3.copy()\n",
    "print(b)"
   ]
  },
  {
   "cell_type": "code",
   "execution_count": 51,
   "id": "124863c6-860b-46cb-91fe-babb5131252b",
   "metadata": {},
   "outputs": [
    {
     "name": "stdout",
     "output_type": "stream",
     "text": [
      "20\n",
      "{20: 30, 30: 40, 40: 50, 50: 60}\n"
     ]
    }
   ],
   "source": [
    "#pop method\n",
    "a4={10:20,20:30,30:40,40:50,50:60}\n",
    "# perticular key value are remove\n",
    "print(a4.pop(10))\n",
    "print(a4)"
   ]
  },
  {
   "cell_type": "code",
   "execution_count": 53,
   "id": "3cd78171-d0e2-40ef-bafe-9b17fa66e7d3",
   "metadata": {},
   "outputs": [
    {
     "name": "stdout",
     "output_type": "stream",
     "text": [
      "(40, 50)\n",
      "{20: 30, 30: 40}\n"
     ]
    }
   ],
   "source": [
    "#pop itemb function\n",
    "print(a4.popitem())\n",
    "#last key value pair are removing \n",
    "print(a4)\n"
   ]
  },
  {
   "cell_type": "code",
   "execution_count": 57,
   "id": "0020a070-bab0-4040-b742-6e6ed3c330cb",
   "metadata": {},
   "outputs": [
    {
     "name": "stdout",
     "output_type": "stream",
     "text": [
      "{1: None, 2: None, 4: None, 5: None}\n"
     ]
    }
   ],
   "source": [
    "#from keys function\n",
    "# automatically keys pass none value\n",
    "a5={1:'',2:'',4:'',5:''}\n",
    "c={}\n",
    "print(b.fromkeys(a5))"
   ]
  },
  {
   "cell_type": "code",
   "execution_count": 64,
   "id": "e5e69187-a8e4-4198-b394-7db7f34c8c07",
   "metadata": {},
   "outputs": [
    {
     "name": "stdout",
     "output_type": "stream",
     "text": [
      "{1: 10, 4: 10, 5: 10, 6: 10}\n"
     ]
    }
   ],
   "source": [
    "#from keys function\n",
    "# automatically all keys pass define same value\n",
    "a6={1:'',2:'',4:'',5:''}\n",
    "c={}\n",
    "print(b.fromkeys(a,10))"
   ]
  },
  {
   "cell_type": "code",
   "execution_count": 71,
   "id": "020f9523-b683-4296-9101-719cae240aac",
   "metadata": {},
   "outputs": [
    {
     "name": "stdout",
     "output_type": "stream",
     "text": [
      "{'name': 'shubh', 'address': 'karad'}\n"
     ]
    }
   ],
   "source": [
    "#update the dictionary\n",
    "a6={'name':'shubh','address':'pune'}\n",
    "#change the update address\n",
    "a6.update({'address':'karad'})\n",
    "print(a6)"
   ]
  },
  {
   "cell_type": "code",
   "execution_count": 76,
   "id": "1bf72d3e-1025-4a87-90a5-cfdd31335be6",
   "metadata": {},
   "outputs": [
    {
     "name": "stdout",
     "output_type": "stream",
     "text": [
      "2\n",
      "4\n",
      "6\n"
     ]
    }
   ],
   "source": [
    "#itration in dictionary\n",
    "a7={1:2,3:4,5:6}\n",
    "for i in a7:\n",
    "    print(a7[i])"
   ]
  },
  {
   "cell_type": "code",
   "execution_count": 77,
   "id": "882bdd83-e921-49f8-b81a-dff4d7fcc0b1",
   "metadata": {},
   "outputs": [
    {
     "name": "stdout",
     "output_type": "stream",
     "text": [
      "1\n",
      "3\n",
      "5\n"
     ]
    }
   ],
   "source": [
    "#itration in dictionary\n",
    "a7={1:2,3:4,5:6}\n",
    "for i in a7:\n",
    "    print(i)"
   ]
  },
  {
   "cell_type": "code",
   "execution_count": 78,
   "id": "844d1285-7a6b-4dd5-b810-a6fc5085a69b",
   "metadata": {},
   "outputs": [
    {
     "name": "stdout",
     "output_type": "stream",
     "text": [
      "2\n",
      "4\n",
      "6\n"
     ]
    }
   ],
   "source": [
    "#each values are print\n",
    "for i in a7.values():\n",
    "    print(i)"
   ]
  },
  {
   "cell_type": "code",
   "execution_count": 80,
   "id": "c8211ccd-9101-4b23-84ca-f57c55701461",
   "metadata": {},
   "outputs": [
    {
     "name": "stdout",
     "output_type": "stream",
     "text": [
      "1\n",
      "3\n",
      "5\n"
     ]
    }
   ],
   "source": [
    "#each keys are print\n",
    "for i in a7.keys():\n",
    "    print(i)"
   ]
  },
  {
   "cell_type": "code",
   "execution_count": 81,
   "id": "bdb22fa0-dccf-4d68-aee6-ee31d56a2dfa",
   "metadata": {},
   "outputs": [
    {
     "name": "stdout",
     "output_type": "stream",
     "text": [
      "(1, 2)\n",
      "(3, 4)\n",
      "(5, 6)\n"
     ]
    }
   ],
   "source": [
    "#all items are print\n",
    "for i in a7.items():\n",
    "    print(i)"
   ]
  },
  {
   "cell_type": "code",
   "execution_count": null,
   "id": "2b06419d-aa20-41d2-bec4-5447277923b9",
   "metadata": {},
   "outputs": [],
   "source": []
  }
 ],
 "metadata": {
  "kernelspec": {
   "display_name": "Python [conda env:base] *",
   "language": "python",
   "name": "conda-base-py"
  },
  "language_info": {
   "codemirror_mode": {
    "name": "ipython",
    "version": 3
   },
   "file_extension": ".py",
   "mimetype": "text/x-python",
   "name": "python",
   "nbconvert_exporter": "python",
   "pygments_lexer": "ipython3",
   "version": "3.12.7"
  }
 },
 "nbformat": 4,
 "nbformat_minor": 5
}
