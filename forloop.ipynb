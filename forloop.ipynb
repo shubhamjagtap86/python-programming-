{
 "cells": [
  {
   "cell_type": "markdown",
   "id": "6808005b-1395-4894-b3c7-ebbbaacbb7de",
   "metadata": {},
   "source": [
    "#   for lopping program"
   ]
  },
  {
   "cell_type": "code",
   "execution_count": 6,
   "id": "03687947-d0fc-4107-9328-ad2e3cf258e7",
   "metadata": {},
   "outputs": [
    {
     "name": "stdout",
     "output_type": "stream",
     "text": [
      "0\n",
      "1\n",
      "2\n",
      "3\n",
      "4\n",
      "5\n",
      "6\n",
      "7\n",
      "8\n",
      "9\n",
      "10\n"
     ]
    }
   ],
   "source": [
    "n=11\n",
    "for i in range (0,n):\n",
    "    print(i)\n"
   ]
  },
  {
   "cell_type": "code",
   "execution_count": 31,
   "id": "3d8fbfb6-ef7c-4b1c-98a8-d3fa26450e92",
   "metadata": {},
   "outputs": [
    {
     "name": "stdout",
     "output_type": "stream",
     "text": [
      "shubham\n",
      "karan\n",
      "pranav\n",
      "sidhesh\n",
      "1\n",
      "2\n",
      "3\n",
      "4\n",
      "5\n",
      "6\n",
      "7\n",
      "8\n",
      "9\n",
      "10\n",
      "shubham\n",
      "pune\n",
      "2\n",
      "4\n",
      "6\n",
      "8\n",
      "10\n",
      "h\n",
      "e\n",
      "l\n",
      "l\n",
      "o\n",
      " \n",
      "s\n",
      "h\n",
      "u\n",
      "b\n",
      "h\n",
      "a\n",
      "m\n"
     ]
    }
   ],
   "source": [
    "#CREATE LIST USING PYTHONE FOR LOOP\n",
    "li=['shubham','karan','pranav','sidhesh']\n",
    "for i in li:\n",
    "    print(i )\n",
    "\n",
    "#CRETE TUPLE LIN LOOP\n",
    "tup=(1,2,3,4,5,6,7,8,9,10)\n",
    "for i in tup:\n",
    "    print(i)\n",
    "\n",
    "#create dictionary in loop\n",
    "dic={'name':'shubham','address':'pune'}\n",
    "for i  in dic:\n",
    "    print(dic[i])\n",
    "\n",
    "#create set in loop\n",
    "set={2,4,6,8,10}\n",
    "for i in set: \n",
    "    print(i)\n",
    "\n",
    "#string in loop:-\n",
    "str='hello shubham'\n",
    "for i in str:\n",
    "    print(i)\n",
    "    \n"
   ]
  },
  {
   "cell_type": "code",
   "execution_count": 34,
   "id": "90ef627f-c9e5-44d9-ad70-288e5e616e50",
   "metadata": {},
   "outputs": [
    {
     "name": "stdout",
     "output_type": "stream",
     "text": [
      "Current Letter : h\n",
      "Current Letter : u\n",
      "Current Letter : b\n",
      "Current Letter : h\n",
      "Current Letter : a\n",
      "Current Letter : m\n",
      "Current Letter : j\n",
      "Current Letter : a\n",
      "Current Letter : g\n",
      "Current Letter : t\n",
      "Current Letter : a\n",
      "Current Letter : p\n"
     ]
    }
   ],
   "source": [
    "for letter in 'shubhamjagtap':\n",
    "    if letter == 's' or letter == 's':\n",
    "        continue\n",
    "    print('Current Letter :', letter)"
   ]
  },
  {
   "cell_type": "code",
   "execution_count": 4,
   "id": "5c677800-2dbc-46a1-8078-5ba30f2eb60b",
   "metadata": {},
   "outputs": [
    {
     "name": "stdout",
     "output_type": "stream",
     "text": [
      "1\n",
      "2\n",
      "3\n",
      "4\n",
      "5\n",
      "6\n",
      "7\n",
      "8\n",
      "9\n",
      "10\n"
     ]
    }
   ],
   "source": [
    "# print 1 to 10 natural number.\n",
    "n=11\n",
    "for i in range(1,n):\n",
    "    print(i)\n",
    "\n"
   ]
  },
  {
   "cell_type": "code",
   "execution_count": 25,
   "id": "1430b84d-cf48-42c5-b994-132ad5400b46",
   "metadata": {},
   "outputs": [
    {
     "name": "stdout",
     "output_type": "stream",
     "text": [
      "0\n",
      "2\n",
      "4\n",
      "6\n",
      "8\n",
      "10\n"
     ]
    }
   ],
   "source": [
    "# print the 1 to 11 even number.\n",
    "n=11\n",
    "for i  in range (n):\n",
    "    if i%2==0:\n",
    "        print(i)"
   ]
  },
  {
   "cell_type": "code",
   "execution_count": 31,
   "id": "f78e730a-d8e4-49da-b21f-03a38ac997e5",
   "metadata": {},
   "outputs": [
    {
     "name": "stdout",
     "output_type": "stream",
     "text": [
      "55\n"
     ]
    }
   ],
   "source": [
    "# print the sum of 1 to 10  number\n",
    "num = 10\n",
    "sum = 0\n",
    "for i in range(1,num+1):\n",
    "        sum+=i\n",
    "print(sum)"
   ]
  },
  {
   "cell_type": "code",
   "execution_count": 1,
   "id": "6d0e9240-612f-4333-a50c-b86684460492",
   "metadata": {},
   "outputs": [
    {
     "name": "stdout",
     "output_type": "stream",
     "text": [
      "25\n"
     ]
    }
   ],
   "source": [
    "# print the 1 to 10 odd number sum.\n",
    "num=10\n",
    "sum=0\n",
    "for i in range(num):\n",
    "    if i%2!=0:\n",
    "        sum+=i\n",
    "print(sum)\n",
    "    "
   ]
  },
  {
   "cell_type": "code",
   "execution_count": 61,
   "id": "33d5d773-48ae-4cf0-a410-4fe7e1ead02b",
   "metadata": {},
   "outputs": [
    {
     "name": "stdout",
     "output_type": "stream",
     "text": [
      "0\n",
      "5\n",
      "10\n",
      "15\n",
      "20\n",
      "25\n",
      "30\n",
      "35\n",
      "40\n",
      "45\n",
      "50\n"
     ]
    }
   ],
   "source": [
    "given_number = 5\n",
    " \n",
    "for i in range(11):\n",
    "        print (5*i)"
   ]
  },
  {
   "cell_type": "code",
   "execution_count": 69,
   "id": "028f4367-b79f-4293-b46c-ea81aea47ced",
   "metadata": {},
   "outputs": [
    {
     "name": "stdout",
     "output_type": "stream",
     "text": [
      "[2, 3, 4, 5, 7, 8, 9]\n",
      "[2, 3, 4, 5, 7, 8, 9]\n",
      "[2, 3, 4, 5, 7, 8, 9]\n",
      "[2, 3, 4, 5, 7, 8, 9]\n",
      "[2, 3, 4, 5, 7, 8, 9]\n",
      "[2, 3, 4, 5, 7, 8, 9]\n",
      "[2, 3, 4, 5, 7, 8, 9]\n"
     ]
    }
   ],
   "source": [
    "#crete the list and print the using loop.\n",
    "li1=[2,3,4,5,7,8,9]\n",
    "for i in li1:\n",
    "    print(li)\n"
   ]
  },
  {
   "cell_type": "code",
   "execution_count": 70,
   "id": "faabef8b-a5c3-4d91-950d-ac36fe280fec",
   "metadata": {},
   "outputs": [
    {
     "name": "stdout",
     "output_type": "stream",
     "text": [
      "1\n",
      "2\n",
      "4\n",
      "6\n",
      "88\n",
      "125\n"
     ]
    }
   ],
   "source": [
    "#using list function\n",
    "list = [1,2,4,6,88,125]\n",
    "for i in list:\n",
    "     print(i)"
   ]
  },
  {
   "cell_type": "code",
   "execution_count": 15,
   "id": "5f8e7126-e6e1-429a-b7a2-2c5080f03f4d",
   "metadata": {},
   "outputs": [
    {
     "name": "stdout",
     "output_type": "stream",
     "text": [
      "7\n"
     ]
    }
   ],
   "source": [
    "\n",
    "list1 = [1, 2, 9, 4, 7, 5,2]\n",
    "print(len(list1))  \n"
   ]
  },
  {
   "cell_type": "code",
   "execution_count": 96,
   "id": "115b7bb5-c684-4122-9a8a-ff23c8f5842a",
   "metadata": {},
   "outputs": [
    {
     "name": "stdin",
     "output_type": "stream",
     "text": [
      "Enter a number mam\n"
     ]
    },
    {
     "name": "stdout",
     "output_type": "stream",
     "text": [
      "The string mam is a Palindrome.\n"
     ]
    }
   ],
   "source": [
    "given_string=(input(\"Enter a number\"))\n",
    "reverse_string = \"\"\n",
    "for i in given_string:\n",
    "    reverse_string = i + reverse_string  \n",
    "if(given_string == reverse_string):\n",
    "   print(\"The string\", given_string,\"is a Palindrome.\") \n",
    "else:\n",
    "   print(\"The string\",given_string,\"is NOT a Palindrome.\")"
   ]
  },
  {
   "cell_type": "code",
   "execution_count": 4,
   "id": "5d9ab2dd-a99b-49ce-beec-d173ff064536",
   "metadata": {},
   "outputs": [
    {
     "name": "stdin",
     "output_type": "stream",
     "text": [
      "Eneter the string 123\n"
     ]
    },
    {
     "name": "stdout",
     "output_type": "stream",
     "text": [
      "321\n"
     ]
    }
   ],
   "source": [
    "\n",
    "str1=input(\"Eneter the string\")\n",
    "reverse_string=\"\"\n",
    "for i in str1:\n",
    "    reverse_string =i + reverse_string  \n",
    "print(reverse_string)"
   ]
  },
  {
   "cell_type": "code",
   "execution_count": 15,
   "id": "44a70246-c789-476a-b77d-e1b970041e1a",
   "metadata": {},
   "outputs": [
    {
     "name": "stdin",
     "output_type": "stream",
     "text": [
      "enter any number 153\n"
     ]
    },
    {
     "name": "stdout",
     "output_type": "stream",
     "text": [
      "The given number 153  is  an armstrong.\n"
     ]
    }
   ],
   "source": [
    "given_number=input(\"enter any number\")\n",
    "\n",
    "given_number=str(given_number)\n",
    "string_length=len(given_number)\n",
    "sum=0\n",
    "for  i in given_number:\n",
    "    sum +=int(i)**string_length\n",
    "\n",
    "if sum==int(given_number):\n",
    "    print(\"The given number\",given_number,\" is  an armstrong.\")\n",
    "else:\n",
    "    print(\"The given number \",given_number,\"is an not armstrong.\")\n"
   ]
  },
  {
   "cell_type": "code",
   "execution_count": 19,
   "id": "cf6499ba-46c1-4493-8a66-d32add5423b3",
   "metadata": {},
   "outputs": [
    {
     "name": "stdout",
     "output_type": "stream",
     "text": [
      "1 odd number\n",
      "2 even number\n",
      "3 odd number\n",
      "4 even number\n",
      "5 odd number\n",
      "6 even number\n",
      "8 even number\n",
      "9 odd number\n",
      "10 even number\n",
      "22 even number\n",
      "13 odd number\n",
      "24 even number\n"
     ]
    }
   ],
   "source": [
    "list1=[1,2,3,4,5,6,8,9,10,22,13,24]\n",
    "for i in list1:\n",
    "    if i %2==0:\n",
    "        print(i,\"even number\")\n",
    "    else:\n",
    "        print(i,\"odd number\")\n"
   ]
  },
  {
   "cell_type": "code",
   "execution_count": 24,
   "id": "fdb308b6-4caa-410f-89e5-711ee0d5ba92",
   "metadata": {},
   "outputs": [
    {
     "name": "stdout",
     "output_type": "stream",
     "text": [
      "Non-prime numbers between 10 and 30 are:\n",
      "10 12 14 15 16 18 20 21 22 24 25 26 27 28 "
     ]
    }
   ],
   "source": [
    "# import the math library\n",
    "import math\n",
    "def is_not_prime(n):\n",
    "    flag = False\n",
    "    for i in range(2, int(math.sqrt(n)) + 1):\n",
    "        if n % i == 0:\n",
    "            flag = True\n",
    "    return flag\n",
    "range_starts = 10\n",
    "range_ends = 30\n",
    "print(\"Non-prime numbers between\",range_starts,\"and\", range_ends,\"are:\")\n",
    " \n",
    "for number in filter(is_not_prime, range(range_starts, range_ends)):\n",
    "    print(number, end= ' ')"
   ]
  },
  {
   "cell_type": "code",
   "execution_count": 5,
   "id": "f119b1aa-9975-4958-b6da-c0fc8655f8cb",
   "metadata": {},
   "outputs": [
    {
     "name": "stdin",
     "output_type": "stream",
     "text": [
      "Eneter the string and digit 12sd\n"
     ]
    },
    {
     "name": "stdout",
     "output_type": "stream",
     "text": [
      " The input string 12sd has 2 letters and 2 digits.\n"
     ]
    }
   ],
   "source": [
    "# count the string and digits\n",
    "user_input = input(\"Eneter the string and digit\")\n",
    "digits = 0\n",
    "letters = 0\n",
    "for i in user_input:\n",
    "    if i.isdigit():\n",
    "        digits=digits+1\n",
    "    elif i.isalpha():\n",
    "        letters=letters+1\n",
    " \n",
    "print(\" The input string\",user_input, \"has\", letters, \"letters and\", digits,\"digits.\")"
   ]
  },
  {
   "cell_type": "code",
   "execution_count": 3,
   "id": "cd96bf60-a148-4cad-82bf-af5935b83731",
   "metadata": {},
   "outputs": [
    {
     "name": "stdin",
     "output_type": "stream",
     "text": [
      " shubh123\n"
     ]
    },
    {
     "name": "stdout",
     "output_type": "stream",
     "text": [
      "The input string shubh123 has 5 letters and 3 digit\n"
     ]
    }
   ],
   "source": [
    "strnum=input()\n",
    "digits=0\n",
    "letters=0\n",
    "for i in strnum:\n",
    "    if i.isdigit():\n",
    "        digits=digits+1\n",
    "    elif i.isalpha():\n",
    "        letters=letters+1\n",
    "print(\"The input string\",strnum,\"has\",letters,\"letters and\",digits,\"digit\")\n",
    "    "
   ]
  },
  {
   "cell_type": "code",
   "execution_count": 3,
   "id": "c2376d36-3015-4bfc-b61b-46076e76f554",
   "metadata": {},
   "outputs": [
    {
     "name": "stdout",
     "output_type": "stream",
     "text": [
      "c++\n",
      "-----\n",
      "pythone\n",
      "-----\n",
      " c\n",
      "-----\n",
      "Last statement not language\n"
     ]
    }
   ],
   "source": [
    "languages = ['c++', 'pythone', ' c']\n",
    "\n",
    "# start of the loop\n",
    "for lang in languages:\n",
    "    print(lang)\n",
    "    print('-----')\n",
    "# end of the for loop\n",
    "\n",
    "print('Last statement not language')"
   ]
  },
  {
   "cell_type": "code",
   "execution_count": 4,
   "id": "c72ad549-249e-47f0-916a-04f1c773d3f3",
   "metadata": {},
   "outputs": [
    {
     "name": "stdout",
     "output_type": "stream",
     "text": [
      "P\n",
      "y\n",
      "t\n",
      "h\n",
      "o\n",
      "n\n"
     ]
    }
   ],
   "source": [
    "language = 'Python'\n",
    "\n",
    "# iterate over each character in language\n",
    "for x in language:\n",
    "    print(x)"
   ]
  },
  {
   "cell_type": "code",
   "execution_count": 5,
   "id": "741ee11d-e4f4-4b82-99f6-555bd634b6b8",
   "metadata": {},
   "outputs": [
    {
     "name": "stdout",
     "output_type": "stream",
     "text": [
      "Electric Tesla\n",
      "Electric Porsche\n",
      "Electric Mercedes\n",
      "-----\n",
      "Fast Tesla\n",
      "Fast Porsche\n",
      "Fast Mercedes\n",
      "-----\n"
     ]
    }
   ],
   "source": [
    "# outer loop \n",
    "attributes = ['Electric', 'Fast']\n",
    "cars = ['Tesla', 'Porsche', 'Mercedes']\n",
    "\n",
    "for attribute in attributes:\n",
    "    for car in cars:\n",
    "        print(attribute, car)\n",
    "    \n",
    "    # this statement is outside the inner loop\n",
    "    print(\"-----\")\n",
    "  "
   ]
  },
  {
   "cell_type": "code",
   "execution_count": 9,
   "id": "d4bcd55b-62e6-4388-9794-ef53b0f7bcd2",
   "metadata": {},
   "outputs": [
    {
     "name": "stdout",
     "output_type": "stream",
     "text": [
      "apple\n",
      "cherry\n"
     ]
    }
   ],
   "source": [
    "\n",
    "fruits = [\"apple\", \"banana\", \"cherry\"]\n",
    "for x in fruits:\n",
    "  if x == \"banana\":\n",
    "    continue\n",
    "  print(x)"
   ]
  },
  {
   "cell_type": "code",
   "execution_count": 10,
   "id": "a7335c9a-9ca1-4311-8f26-bf83f9b15948",
   "metadata": {},
   "outputs": [
    {
     "name": "stdout",
     "output_type": "stream",
     "text": [
      "The month of January has 31 days.\n",
      "The month of April has 30 days.\n",
      "The month of August has 31 days.\n",
      "The month of June has 30 days.\n",
      "Dovember is not a valid month name.\n"
     ]
    }
   ],
   "source": [
    "# given list of month name\n",
    "month = [\"January\", \"April\", \"August\",\"June\",\"Dovember\"]\n",
    " \n",
    "# iterate through each mont in the list\n",
    "for i in month:\n",
    "    if i == \"February\":\n",
    "            print(\"The month of February has 28/29 days\")\n",
    "    elif i in (\"April\", \"June\", \"September\", \"November\"):\n",
    "            print(\"The month of\",i,\"has 30 days.\")\n",
    "    elif i in (\"January\", \"March\", \"May\", \"July\", \"August\", \"October\", \"December\"):\n",
    "            print(\"The month of\",i,\"has 31 days.\")\n",
    "    else:\n",
    "            print(i,\"is not a valid month name.\")"
   ]
  },
  {
   "cell_type": "code",
   "execution_count": 14,
   "id": "4f594fc6-b273-4a6f-b5ec-441c75e8d310",
   "metadata": {},
   "outputs": [
    {
     "name": "stdin",
     "output_type": "stream",
     "text": [
      " Shubh@20\n"
     ]
    },
    {
     "name": "stdout",
     "output_type": "stream",
     "text": [
      "Valid Password\n"
     ]
    }
   ],
   "source": [
    "# input password from user\n",
    "password = input()\n",
    " \n",
    "# set up flags for each criteria\n",
    "# of a valid password\n",
    "has_valid_length = False\n",
    "has_lower_case = False\n",
    "has_upper_case = False\n",
    "has_digits = False\n",
    "has_special_characters = False\n",
    " \n",
    " \n",
    "# first verify if the length of password is\n",
    "# higher or equal to 8 and lower or equal to 16\n",
    "if (len(password) >= 8) and (len(password)<=16):\n",
    " \n",
    "    has_valid_length = True\n",
    " \n",
    "    # iterate through each characters\n",
    "    # of the password\n",
    "    for i in password:\n",
    " \n",
    "        # check if there are lowercase alphabets\n",
    "        if (i.islower()):\n",
    "                has_lower_case = True                   \n",
    " \n",
    "        # check if there are uppercase alphabets\n",
    "        if (i.isupper()):\n",
    "                has_upper_case = True                   \n",
    " \n",
    "        # check if the password has digits\n",
    "        if (i.isdigit()):\n",
    "                has_digits = True                       \n",
    " \n",
    "        # check if the password has special characters\n",
    "        if(i==\"@\" or i==\"$\" or i==\"_\"or i==\"#\" or i==\"^\" or i==\"&\" or i==\"*\"):\n",
    "                has_special_characters = True           \n",
    " \n",
    " \n",
    "if (has_valid_length==True and has_lower_case ==True and has_upper_case == True and has_digits == True and has_special_characters == True):\n",
    "    print(\"Valid Password\")\n",
    "else:\n",
    "        print(\"Invalid Password\")"
   ]
  },
  {
   "cell_type": "code",
   "execution_count": 15,
   "id": "e898925d-1f78-41f9-a05d-c27a9d860a46",
   "metadata": {},
   "outputs": [
    {
     "name": "stdin",
     "output_type": "stream",
     "text": [
      " shjum344\n"
     ]
    },
    {
     "name": "stdout",
     "output_type": "stream",
     "text": [
      " The input string shjum344 has 5 letters and 3 digits.\n"
     ]
    }
   ],
   "source": [
    "# take string input from user\n",
    "user_input = input()\n",
    " \n",
    "# declare 2 variable to store\n",
    "# letters and digits\n",
    "digits = 0\n",
    "letters = 0\n",
    " \n",
    "# iterate through the input string\n",
    "for i in user_input:\n",
    " \n",
    "    # check if the character\n",
    "    # is a digit using\n",
    "    # the isdigit() method\n",
    "    if i.isdigit():\n",
    " \n",
    "        # if true, increment the value\n",
    "        # of digits variable by 1\n",
    "        digits=digits+1\n",
    " \n",
    "    # check if the character\n",
    "    # is an alphabet using\n",
    "    # the isalpha() method\n",
    "    elif i.isalpha():\n",
    " \n",
    "        # if true, increment the value\n",
    "        # of letters variable by 1\n",
    "        letters=letters+1\n",
    " \n",
    "print(\" The input string\",user_input, \"has\", letters, \"letters and\", digits,\"digits.\")"
   ]
  },
  {
   "cell_type": "code",
   "execution_count": 20,
   "id": "2644789d-a5f8-475f-93e2-5d897c814a1a",
   "metadata": {},
   "outputs": [
    {
     "name": "stdout",
     "output_type": "stream",
     "text": [
      "The factorial of  5  is  120\n"
     ]
    }
   ],
   "source": [
    "# given number\n",
    "given_number=5\n",
    " \n",
    " # since 1 is a factor\n",
    " # of all number\n",
    " # set the factorial to 1\n",
    "factorial = 1\n",
    " \n",
    "# iterate till the given number\n",
    "for i in range(1, given_number + 1):\n",
    "    factorial = factorial * i\n",
    " \n",
    "print(\"The factorial of \", given_number, \" is \", factorial)"
   ]
  },
  {
   "cell_type": "code",
   "execution_count": 22,
   "id": "13d38b51-1997-4c07-94fe-4cd2e68d8935",
   "metadata": {},
   "outputs": [
    {
     "name": "stdout",
     "output_type": "stream",
     "text": [
      "Non-prime numbers between 2 and 30 are:\n",
      "4\n",
      "6\n",
      "8\n",
      "9\n",
      "10\n",
      "12\n",
      "14\n",
      "15\n",
      "16\n",
      "18\n",
      "20\n",
      "21\n",
      "22\n",
      "24\n",
      "25\n",
      "26\n",
      "27\n",
      "28\n"
     ]
    }
   ],
   "source": [
    "# import the math library\n",
    "import math\n",
    " \n",
    "# function to print all\n",
    "# non-primes in a range\n",
    "def is_not_prime(n):\n",
    " \n",
    "    # flag to track\n",
    "    # if no. is prime or not\n",
    "    # initially assume all numbers are\n",
    "    # non prime\n",
    "    flag = False\n",
    " \n",
    "    # iterate in the given range\n",
    "    # using for loop starting from 2\n",
    "    # as 0 & 1 are neither prime\n",
    "    # nor composite\n",
    "    for i in range(2, int(math.sqrt(n)) + 1):\n",
    " \n",
    "        # condition to check if a\n",
    "        # number is prime or not\n",
    "        if n % i == 0:\n",
    "            flag = True\n",
    "    return flag\n",
    " \n",
    "# lower bound of the range\n",
    "range_starts = 2\n",
    " \n",
    "# upper bound of the range\n",
    "range_ends = 30\n",
    "print(\"Non-prime numbers between\",range_starts,\"and\", range_ends,\"are:\")\n",
    " \n",
    "for number in filter(is_not_prime, range(range_starts, range_ends)):\n",
    "    print(number)"
   ]
  },
  {
   "cell_type": "code",
   "execution_count": 25,
   "id": "f3ba1209-e316-461c-8e20-f0f7f1a07b3e",
   "metadata": {},
   "outputs": [
    {
     "name": "stdin",
     "output_type": "stream",
     "text": [
      "enter a numnber 153\n"
     ]
    },
    {
     "name": "stdout",
     "output_type": "stream",
     "text": [
      "The given number 153 is an Amstrong number.\n"
     ]
    }
   ],
   "source": [
    "# the given number\n",
    "given_number=int(input(\"enter a numnber\"))\n",
    " \n",
    "# convert given number to string\n",
    "# so that we can iterate through it\n",
    "given_number = str(given_number)\n",
    " \n",
    "# store the lenght of the string for future use\n",
    "string_length = len(given_number)\n",
    " \n",
    "# initialize a sum variable with\n",
    "# 0 value to store the sum of the product of\n",
    "# each digit\n",
    "sum = 0\n",
    "\n",
    "\n",
    "# iterate through the given string\n",
    "for i in given_number:\n",
    "    sum += int(i)**string_length\n",
    " \n",
    "# if the sum matches the given string\n",
    "# its an amstrong number\n",
    "if sum == int(given_number):\n",
    "    print(\"The given number\",given_number,\"is an Amstrong number.\")\n",
    " \n",
    "# if the sum do not match with the given string\n",
    "# its an amstrong number\n",
    "else:\n",
    "    print(\"The given number\",given_number,\"is Not an Amstrong number.\")"
   ]
  },
  {
   "cell_type": "code",
   "execution_count": null,
   "id": "2193afa6-366e-4c2a-8655-0db7bbdedd54",
   "metadata": {},
   "outputs": [],
   "source": []
  }
 ],
 "metadata": {
  "kernelspec": {
   "display_name": "Python [conda env:base] *",
   "language": "python",
   "name": "conda-base-py"
  },
  "language_info": {
   "codemirror_mode": {
    "name": "ipython",
    "version": 3
   },
   "file_extension": ".py",
   "mimetype": "text/x-python",
   "name": "python",
   "nbconvert_exporter": "python",
   "pygments_lexer": "ipython3",
   "version": "3.13.5"
  }
 },
 "nbformat": 4,
 "nbformat_minor": 5
}
