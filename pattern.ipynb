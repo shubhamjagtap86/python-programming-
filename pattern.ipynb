{
 "cells": [
  {
   "cell_type": "markdown",
   "id": "b5a6d186-32a2-4f66-9862-8666e1311fe5",
   "metadata": {},
   "source": [
    "# pattern program"
   ]
  },
  {
   "cell_type": "code",
   "execution_count": 1,
   "id": "971f20b8-0fa5-435b-8b23-1c7830519641",
   "metadata": {},
   "outputs": [
    {
     "name": "stdin",
     "output_type": "stream",
     "text": [
      "Enetr any number 10\n"
     ]
    },
    {
     "name": "stdout",
     "output_type": "stream",
     "text": [
      "* \n",
      "* * \n",
      "* * * \n",
      "* * * * \n",
      "* * * * * \n",
      "* * * * * * \n",
      "* * * * * * * \n",
      "* * * * * * * * \n",
      "* * * * * * * * * \n",
      "* * * * * * * * * * \n"
     ]
    }
   ],
   "source": [
    "\n",
    "num =int(input(\"Enetr any number\"))\n",
    "for i in range(num):\n",
    "    for j in range(i + 1):\n",
    "        print(\"*\", end=\" \")\n",
    "    print()"
   ]
  },
  {
   "cell_type": "code",
   "execution_count": 2,
   "id": "e1350c45-5bb6-4d92-9a12-e35ebff0eb05",
   "metadata": {},
   "outputs": [
    {
     "name": "stdout",
     "output_type": "stream",
     "text": [
      "1 \n",
      "1 2 \n",
      "1 2 3 \n",
      "1 2 3 4 \n"
     ]
    }
   ],
   "source": [
    "for i in range(1,5):\n",
    "    for j in range(1,i + 1):\n",
    "        print(j, end=\" \")\n",
    "    print()"
   ]
  },
  {
   "cell_type": "code",
   "execution_count": 3,
   "id": "d814188e-285e-4bc5-a416-35ef9de62126",
   "metadata": {},
   "outputs": [
    {
     "name": "stdout",
     "output_type": "stream",
     "text": [
      "1 \n",
      "2 3 \n",
      "4 5 6 \n",
      "7 8 9 10 \n"
     ]
    }
   ],
   "source": [
    "k=1\n",
    "for i in range(1,5):\n",
    "    for j in range(1,i+1):\n",
    "        print(k, end=\" \")\n",
    "        k+=1\n",
    "    print()"
   ]
  },
  {
   "cell_type": "code",
   "execution_count": 4,
   "id": "c681ee0d-d574-437d-829c-7981139c421a",
   "metadata": {},
   "outputs": [
    {
     "name": "stdout",
     "output_type": "stream",
     "text": [
      "* * * * \n",
      "* * * \n",
      "* * \n",
      "* \n"
     ]
    }
   ],
   "source": [
    "n = 4\n",
    "for i in range(n, 0, -1):\n",
    "    for j in range(1, i + 1):\n",
    "        print('*', end=' ')\n",
    "    print()"
   ]
  },
  {
   "cell_type": "code",
   "execution_count": 5,
   "id": "387ce9bd-8fb4-4f51-92eb-20b07673629b",
   "metadata": {},
   "outputs": [
    {
     "name": "stdout",
     "output_type": "stream",
     "text": [
      "*********\n",
      " *******\n",
      "  *****\n",
      "   ***\n",
      "    *\n"
     ]
    }
   ],
   "source": [
    "def full_pyramid(n):\n",
    "    for i in range(n, 0,  -1):\n",
    "        for j in range(n - i):\n",
    "            print(\" \", end=\"\")\n",
    "        for k in range(2*i-1):\n",
    "            print(\"*\", end=\"\")\n",
    "        print(\"\")\n",
    "n=5\n",
    "full_pyramid(n)"
   ]
  },
  {
   "cell_type": "code",
   "execution_count": 6,
   "id": "56bbe4f8-1875-4157-8241-5e5bb15fd948",
   "metadata": {},
   "outputs": [
    {
     "name": "stdout",
     "output_type": "stream",
     "text": [
      "    *\n",
      "   ***\n",
      "  *****\n",
      " *******\n",
      "*********\n"
     ]
    }
   ],
   "source": [
    "def print_space(space):\n",
    "    if space > 0:\n",
    "        print(\" \", end=\"\")\n",
    "        print_space(space - 1)\n",
    "def print_star(star):\n",
    "    if star > 0:\n",
    "        print(\"*\", end=\"\")\n",
    "        print_star(star - 1)\n",
    "def print_pyramid(n, current_row=1):\n",
    "    if current_row > n:\n",
    "        return\n",
    "    spaces = n - current_row\n",
    "    stars = 2 * current_row - 1\n",
    "    print_space(spaces)\n",
    "    print_star(stars)\n",
    "    print()\n",
    "    print_pyramid(n, current_row + 1)\n",
    "n = 5\n",
    "print_pyramid(n)"
   ]
  },
  {
   "cell_type": "code",
   "execution_count": 7,
   "id": "59341aa1-66d2-4ac4-bd50-aebeb212d2bf",
   "metadata": {},
   "outputs": [
    {
     "name": "stdout",
     "output_type": "stream",
     "text": [
      "* * * * * \n",
      "* * * * \n",
      "* * * \n",
      "* * \n",
      "* \n"
     ]
    }
   ],
   "source": [
    "def inverted_half_pyramid(n):\n",
    "    for i in range(n, 0, -1):\n",
    "        for j in range(1, i + 1):\n",
    "            print(\"* \", end=\"\")\n",
    "        print(\"\\r\")\n",
    "n = 5\n",
    "inverted_half_pyramid(n)"
   ]
  },
  {
   "cell_type": "code",
   "execution_count": 8,
   "id": "c99edf33-83fb-472f-b9c5-3bc7ac8a2060",
   "metadata": {},
   "outputs": [
    {
     "name": "stdout",
     "output_type": "stream",
     "text": [
      "    *    \n",
      "   * *   \n",
      "  *   *  \n",
      " *     * \n",
      "*********\n"
     ]
    }
   ],
   "source": [
    "def hollow_pyramid(n):\n",
    "    for i in range(1, n + 1):\n",
    "        for j in range(1, 2 * n):\n",
    "            if j == n + i - 1 or j == n - i + 1 or i == n:\n",
    "                print(\"*\", end=\"\")\n",
    "            else:\n",
    "                print(\" \", end=\"\")\n",
    "        print()\n",
    "rows = 5\n",
    "hollow_pyramid(rows)"
   ]
  },
  {
   "cell_type": "code",
   "execution_count": 10,
   "id": "d1de664d-da69-4c2c-bcf1-ebff2e67bd0c",
   "metadata": {},
   "outputs": [
    {
     "name": "stdin",
     "output_type": "stream",
     "text": [
      "Enter the row size for the pattern:  10\n"
     ]
    },
    {
     "name": "stdout",
     "output_type": "stream",
     "text": [
      "                  * \n",
      "                * * * \n",
      "              * * * * * \n",
      "            * * * * * * * \n",
      "          * * * * * * * * * \n",
      "        * * * * * * * * * * * \n",
      "      * * * * * * * * * * * * * \n",
      "    * * * * * * * * * * * * * * * \n",
      "  * * * * * * * * * * * * * * * * * \n",
      "* * * * * * * * * * * * * * * * * * * \n",
      "  * * * * * * * * * * * * * * * * * \n",
      "    * * * * * * * * * * * * * * * \n",
      "      * * * * * * * * * * * * * \n",
      "        * * * * * * * * * * * \n",
      "          * * * * * * * * * \n",
      "            * * * * * * * \n",
      "              * * * * * \n",
      "                * * * \n",
      "                  * \n"
     ]
    }
   ],
   "source": [
    "rows = int(input(\"Enter the row size for the pattern: \"))\n",
    "for i in range(1,rows + 1):  # Upper part of diamond\n",
    "    for j in range(rows  - i):\n",
    "        print(\" \", end=\" \")\n",
    "    for k in range(1, 2 * i):\n",
    "        print(\"*\", end=\" \")\n",
    "    print()\n",
    "for i in range(rows  - 1, 0, -1):  # Lower part of diamond\n",
    "    for j in range(rows  - i):\n",
    "        print(\" \", end=\" \")\n",
    "    for k in range(1, 2 * i):\n",
    "        print(\"*\", end=\" \")\n",
    "    print()"
   ]
  },
  {
   "cell_type": "code",
   "execution_count": 11,
   "id": "5553ffc6-5e02-4a3c-8bb9-326bf3715cb6",
   "metadata": {},
   "outputs": [
    {
     "name": "stdout",
     "output_type": "stream",
     "text": [
      "11 22 33 44 55 66 77 88 99 110 \n",
      "12 24 36 48 60 72 84 96 108 120 \n",
      "13 26 39 52 65 78 91 104 117 130 \n",
      "14 28 42 56 70 84 98 112 126 140 \n",
      "15 30 45 60 75 90 105 120 135 150 \n",
      "16 32 48 64 80 96 112 128 144 160 \n",
      "17 34 51 68 85 102 119 136 153 170 \n",
      "18 36 54 72 90 108 126 144 162 180 \n",
      "19 38 57 76 95 114 133 152 171 190 \n",
      "20 40 60 80 100 120 140 160 180 200 \n"
     ]
    }
   ],
   "source": [
    "for i  in range(11,21):\n",
    "    for j in range(1,11):\n",
    "        print(j*i,end= ' ')\n",
    "    print()"
   ]
  },
  {
   "cell_type": "code",
   "execution_count": 12,
   "id": "bf59ec32-5132-4336-9102-6e5eee89f731",
   "metadata": {},
   "outputs": [
    {
     "name": "stdin",
     "output_type": "stream",
     "text": [
      "Enter the row size for the pattern:  10\n"
     ]
    },
    {
     "name": "stdout",
     "output_type": "stream",
     "text": [
      "* * * * * * * * * * \n",
      "*                 * \n",
      "*                 * \n",
      "*                 * \n",
      "*                 * \n",
      "*                 * \n",
      "*                 * \n",
      "*                 * \n",
      "*                 * \n",
      "* * * * * * * * * * \n"
     ]
    }
   ],
   "source": [
    "rows = int(input(\"Enter the row size for the pattern: \"))\n",
    "for i in range(1, rows + 1):  # Outer loop for rows\n",
    "    for j in range(1, rows + 1):  # Inner loop for columns\n",
    "        if i == 1 or i == rows or j == 1 or j == rows :  # Print star only on borders\n",
    "            print(\"*\", end=\" \")\n",
    "        else:\n",
    "            print(\" \", end=\" \")  # Print space inside\n",
    "    print()\n",
    "\n",
    "    "
   ]
  },
  {
   "cell_type": "code",
   "execution_count": 13,
   "id": "c65109af-50bf-4c04-bd21-b8cb0d2672fa",
   "metadata": {},
   "outputs": [
    {
     "name": "stdin",
     "output_type": "stream",
     "text": [
      "Enter the row size for the pattern:  5\n"
     ]
    },
    {
     "name": "stdout",
     "output_type": "stream",
     "text": [
      "* \n",
      "* * \n",
      "*   * \n",
      "*     * \n",
      "* * * * * \n"
     ]
    }
   ],
   "source": [
    "rows = int(input(\"Enter the row size for the pattern: \"))\n",
    "for i in range(1, rows + 1):  # Outer loop for rows\n",
    "    for j in range(1, i + 1):  # Inner loop for columns\n",
    "        if j == 1 or i == rows or i == j:  # Print star on borders\n",
    "            print(\"*\", end=\" \")\n",
    "        else:\n",
    "            print(\" \", end=\" \")  # Print space inside\n",
    "    print()"
   ]
  },
  {
   "cell_type": "code",
   "execution_count": 14,
   "id": "12957dcd-fbe9-4f02-bd14-1606000cd9a8",
   "metadata": {},
   "outputs": [
    {
     "name": "stdin",
     "output_type": "stream",
     "text": [
      "Enter the row size for the pattern: 7\n"
     ]
    },
    {
     "name": "stdout",
     "output_type": "stream",
     "text": [
      "* * * * * * * \n",
      "*         * \n",
      "*       * \n",
      "*     * \n",
      "*   * \n",
      "* * \n",
      "* \n"
     ]
    }
   ],
   "source": [
    "rows = int(input(\"Enter the row size for the pattern:\"))\n",
    "for i in range(rows , 0, -1):  # Outer loop for rows in reverse\n",
    "    for j in range(1, i + 1):  # Inner loop for columns\n",
    "        if j == 1 or i == rows or i == j:  # Print star on borders\n",
    "            print(\"*\", end=\" \")\n",
    "        else:\n",
    "            print(\" \", end=\" \")  # Print space inside\n",
    "    print()  # Move to the next line"
   ]
  },
  {
   "cell_type": "code",
   "execution_count": 15,
   "id": "6dee2993-f5a5-42cf-959f-052f98e385d7",
   "metadata": {},
   "outputs": [
    {
     "name": "stdin",
     "output_type": "stream",
     "text": [
      "Enter the row size for the pattern:  7\n"
     ]
    },
    {
     "name": "stdout",
     "output_type": "stream",
     "text": [
      "            * \n",
      "          *   * \n",
      "        *       * \n",
      "      *           * \n",
      "    *               * \n",
      "  *                   * \n",
      "* * * * * * * * * * * * * \n"
     ]
    }
   ],
   "source": [
    "rows = int(input(\"Enter the row size for the pattern: \"))\n",
    "for i in range(1, rows + 1):  # Outer loop for rows\n",
    "    for j in range(rows  - i):  # Inner loop for spaces\n",
    "        print(\" \", end=\" \")\n",
    "    for k in range(1, 2 * i):  # Inner loop for stars\n",
    "        if k == 1 or k == 2 * i - 1 or i == rows:  # Print star on borders\n",
    "            print(\"*\", end=\" \")\n",
    "        else:\n",
    "            print(\" \", end=\" \")  # Print space inside\n",
    "    print()"
   ]
  },
  {
   "cell_type": "code",
   "execution_count": null,
   "id": "647ec333-1d10-4d37-a17f-bdaa87a2121f",
   "metadata": {},
   "outputs": [],
   "source": []
  }
 ],
 "metadata": {
  "kernelspec": {
   "display_name": "Python [conda env:anaconda3]",
   "language": "python",
   "name": "conda-env-anaconda3-py"
  },
  "language_info": {
   "codemirror_mode": {
    "name": "ipython",
    "version": 3
   },
   "file_extension": ".py",
   "mimetype": "text/x-python",
   "name": "python",
   "nbconvert_exporter": "python",
   "pygments_lexer": "ipython3",
   "version": "3.12.7"
  }
 },
 "nbformat": 4,
 "nbformat_minor": 5
}
